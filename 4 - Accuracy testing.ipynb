{
 "cells": [
  {
   "cell_type": "markdown",
   "metadata": {},
   "source": [
    "# Accuracy testing\n",
    "To test the accuracy of the algorithm, we need some data of which the 'true shift' is known. For this purpose we created a dataset of images with a known relative shift, before adding a variable amount of noise."
   ]
  },
  {
   "cell_type": "code",
   "execution_count": 1,
   "metadata": {},
   "outputs": [
    {
     "name": "stderr",
     "output_type": "stream",
     "text": [
      "/home/tobias/anaconda3/envs/LEEM-analysis/lib/python3.7/site-packages/xarray/core/merge.py:17: FutureWarning: The Panel class is removed from pandas. Accessing it from the top-level namespace will also be removed in the next version\n",
      "  PANDAS_TYPES = (pd.Series, pd.DataFrame, pd.Panel)\n"
     ]
    }
   ],
   "source": [
    "import numpy as np\n",
    "import dask.array as da\n",
    "import matplotlib.pyplot as plt\n",
    "import xarray as xr\n",
    "\n",
    "from scipy.ndimage.interpolation import shift\n",
    "from dask.distributed import Client\n",
    "from Registration import *\n",
    "\n",
    "\n",
    "client = Client('localhost:8786')\n",
    "client.upload_file('Registration.py')"
   ]
  },
  {
   "cell_type": "code",
   "execution_count": 2,
   "metadata": {},
   "outputs": [
    {
     "data": {
      "image/png": "[encoded data removed]",
      "text/plain": [
       "<Figure size 432x288 with 2 Axes>"
      ]
     },
     "metadata": {
      "needs_background": "light"
     },
     "output_type": "display_data"
    }
   ],
   "source": [
    "fftsize=256*2 // 2\n",
    "x,y = np.mgrid[-fftsize-4:fftsize+4,-fftsize-4:fftsize+4]\n",
    "r_min = 50\n",
    "r_max = 100\n",
    "annulus = np.where((r_min**2 < x**2 + y**2) & (x**2 + y**2 < r_max**2), 1., 0.).astype(float)\n",
    "plt.imshow(annulus)\n",
    "plt.colorbar();"
   ]
  },
  {
   "cell_type": "markdown",
   "metadata": {},
   "source": [
    "The $x$ and $y$ coordinate are independent in the algorithm. We take advantage of this by testing two types of displacements at once: a parabolic displacement in the $x$-direction and a random one for $y$."
   ]
  },
  {
   "cell_type": "code",
   "execution_count": 3,
   "metadata": {},
   "outputs": [
    {
     "data": {
      "image/png": "[encoded data removed]",
      "text/plain": [
       "<Figure size 432x288 with 1 Axes>"
      ]
     },
     "metadata": {
      "needs_background": "light"
     },
     "output_type": "display_data"
    }
   ],
   "source": [
    "length = 200\n",
    "dE = 10\n",
    "x = np.arange(length)\n",
    "xshifts = x**2/(4*length)\n",
    "xshifts -= xshifts.mean()\n",
    "plt.plot(xshifts)\n",
    "np.random.seed(42)\n",
    "yshifts = np.random.random(length)\n",
    "yshifts -= yshifts.mean()\n",
    "plt.plot(yshifts)\n",
    "plt.ylabel('shift')\n",
    "plt.xlabel('index');"
   ]
  },
  {
   "cell_type": "markdown",
   "metadata": {},
   "source": [
    "Next, we apply the shifts to (copies of the annulus image) to create the dataset"
   ]
  },
  {
   "cell_type": "code",
   "execution_count": 1,
   "metadata": {},
   "outputs": [
    {
     "ename": "NameError",
     "evalue": "name 'da' is not defined",
     "output_type": "error",
     "traceback": [
      "\u001b[0;31m---------------------------------------------------------------------------\u001b[0m",
      "\u001b[0;31mNameError\u001b[0m                                 Traceback (most recent call last)",
      "\u001b[0;32m<ipython-input-1-442eb4884eb6>\u001b[0m in \u001b[0;36m<module>\u001b[0;34m\u001b[0m\n\u001b[0;32m----> 1\u001b[0;31m \u001b[0;34m@\u001b[0m\u001b[0mda\u001b[0m\u001b[0;34m.\u001b[0m\u001b[0mas_gufunc\u001b[0m\u001b[0;34m(\u001b[0m\u001b[0msignature\u001b[0m\u001b[0;34m=\u001b[0m\u001b[0;34m\"(i,j),(2)->(i,j)\"\u001b[0m\u001b[0;34m,\u001b[0m \u001b[0moutput_dtypes\u001b[0m\u001b[0;34m=\u001b[0m\u001b[0mfloat\u001b[0m\u001b[0;34m,\u001b[0m \u001b[0mvectorize\u001b[0m\u001b[0;34m=\u001b[0m\u001b[0;32mTrue\u001b[0m\u001b[0;34m)\u001b[0m\u001b[0;34m\u001b[0m\u001b[0;34m\u001b[0m\u001b[0m\n\u001b[0m\u001b[1;32m      2\u001b[0m \u001b[0;32mdef\u001b[0m \u001b[0mshift_images\u001b[0m\u001b[0;34m(\u001b[0m\u001b[0mimage\u001b[0m\u001b[0;34m,\u001b[0m \u001b[0mshifts\u001b[0m\u001b[0;34m)\u001b[0m\u001b[0;34m:\u001b[0m\u001b[0;34m\u001b[0m\u001b[0;34m\u001b[0m\u001b[0m\n\u001b[1;32m      3\u001b[0m     \u001b[0;34m\"\"\"Shift copies of image over shiftsX and shiftsY.\"\"\"\u001b[0m\u001b[0;34m\u001b[0m\u001b[0;34m\u001b[0m\u001b[0m\n\u001b[1;32m      4\u001b[0m     \u001b[0;32mreturn\u001b[0m \u001b[0mshift\u001b[0m\u001b[0;34m(\u001b[0m\u001b[0mimage\u001b[0m\u001b[0;34m,\u001b[0m \u001b[0mshift\u001b[0m\u001b[0;34m=\u001b[0m\u001b[0mshifts\u001b[0m\u001b[0;34m,\u001b[0m \u001b[0morder\u001b[0m\u001b[0;34m=\u001b[0m\u001b[0;36m1\u001b[0m\u001b[0;34m)\u001b[0m\u001b[0;34m\u001b[0m\u001b[0;34m\u001b[0m\u001b[0m\n\u001b[1;32m      5\u001b[0m \u001b[0;34m\u001b[0m\u001b[0m\n",
      "\u001b[0;31mNameError\u001b[0m: name 'da' is not defined"
     ]
    }
   ],
   "source": [
    "#Todo: deduplicate (w.r.t. Driftcorrection) by moving to Registration. auto output_dtypes not supported by da.as_gufunc\n",
    "@da.as_gufunc(signature=\"(i,j),(2)->(i,j)\", output_dtypes=float, vectorize=True)\n",
    "def shift_images(image, shifts):\n",
    "    \"\"\"Shift copies of image over shiftsX and shiftsY.\"\"\"\n",
    "    return shift(image, shift=shifts, order=1)\n",
    "\n",
    "da_annulus = da.from_array(annulus, chunks='auto' )\n",
    "shifts = da.from_array(np.stack([xshifts, yshifts], axis=1), chunks=(dE,2))\n",
    "\n",
    "synthetic = shift_images(da_annulus, shifts)"
   ]
  },
  {
   "cell_type": "code",
   "execution_count": 8,
   "metadata": {},
   "outputs": [],
   "source": [
    "def only_filter(images, sigma=11, mode='nearest'):\n",
    "    \"\"\"Apply the filters.\n",
    "    Cropped with a margin of sigma,\n",
    "    to prevent edge effects of the filters.\"\"\"\n",
    "    result = images.map_blocks(filter_block, dtype=np.float64, \n",
    "                               sigma=sigma, mode=mode)\n",
    "    if sigma > 0:\n",
    "        si = int(np.ceil(sigma))\n",
    "        result = result[:,si:-si,si:-si]\n",
    "    return result"
   ]
  },
  {
   "cell_type": "code",
   "execution_count": 9,
   "metadata": {},
   "outputs": [],
   "source": [
    "# Create the random noise to be added in different magnitudes to the data.\n",
    "da.random.seed(42)\n",
    "noise = da.random.normal(size=synthetic.shape, chunks=synthetic.chunks)"
   ]
  },
  {
   "cell_type": "code",
   "execution_count": 10,
   "metadata": {},
   "outputs": [],
   "source": [
    "# Create an xarray.DataArray to store the results\n",
    "As = np.arange(0., 4., 0.05)\n",
    "sigmas = np.arange(0, 20, 0.25)\n",
    "ns = np.arange(length)\n",
    "direction = ['x', 'y']\n",
    "res = xr.DataArray(np.zeros((len(As), len(sigmas), 2, len(ns))), \n",
    "             coords={'A' : As, 's': sigmas, 'direction': direction, 'n': ns}, \n",
    "             dims=['A','s', 'direction', 'n'])"
   ]
  },
  {
   "cell_type": "code",
   "execution_count": null,
   "metadata": {},
   "outputs": [],
   "source": [
    "for A in As:\n",
    "    noisedata = synthetic + A * noise\n",
    "    noisedata = noisedata.persist()\n",
    "    for s in sigmas:\n",
    "        if(res.loc[dict(s=s,A=A,direction='x')].mean() == 0):\n",
    "            sobel = only_filter(noisedata, \n",
    "                                    sigma=s, mode='nearest')\n",
    "            sobel = sobel - sobel.mean(axis=(1,2), keepdims=True)  \n",
    "            Corr = dask_cross_corr(sobel)\n",
    "            weights, argmax = max_and_argmax(Corr)\n",
    "            Wc, Mc = calculate_halfmatrices(weights, argmax, fftsize=fftsize)\n",
    "            coords = np.arange(Wc.shape[0])\n",
    "            coords, weightmatrix, DX, DY, row_mask = threshold_and_mask(0.0, Wc, Mc, coords=coords)\n",
    "            dx, dy = calc_shift_vectors(DX, DY, weightmatrix, wpower=4)\n",
    "            ddx, ddy = interp_shifts(coords, [dx,dy], length)\n",
    "            res.loc[dict(s=s,A=A,direction='x')] = ddx\n",
    "            res.loc[dict(s=s,A=A,direction='y')] = ddy\n",
    "            print(f\"A={A}, s={s} completed\")\n",
    "        else: \n",
    "            print(f\"Skipping A={A}, s={s}\")\n",
    "    res.to_netcdf('accuracy_results.nc')"
   ]
  },
  {
   "cell_type": "markdown",
   "metadata": {},
   "source": [
    "## Plotting\n",
    "Let's visualize the results! This produces Figure 8 of the paper."
   ]
  },
  {
   "cell_type": "code",
   "execution_count": null,
   "metadata": {},
   "outputs": [],
   "source": [
    "data = xr.open_dataset('accuracy_results.nc')\n",
    "pltdat = np.abs(data['shift'] + trueshifts)\n",
    "pltdat = pltdat.rename({'s':'$\\sigma$'})\n",
    "pltdat['$\\sigma$'].attrs['units'] = 'pixels'\n",
    "contourkwargs = {'levels': 15, 'colors': 'black', 'alpha': 0.5, 'x':'A'}\n",
    "\n",
    "maxplotkwargs = {'vmax': 1, 'cbar_kwargs': {'label':'max error (pixels)'}, 'x':'A'}\n",
    "meanplotkwargs = {'vmax': 1, 'cbar_kwargs': {'label':'mean error (pixels)'}, 'x':'A'}\n",
    "fig, axs = plt.subplots(ncols=3, nrows=2, \n",
    "                        figsize=[8, 4.5], \n",
    "                        sharex='col',\n",
    "                        constrained_layout=True\n",
    "                       )\n",
    "axs= axs.T.flatten()\n",
    "\n",
    "absmax = pltdat.loc['x'].max('n')\n",
    "# Use imshow to prevent white lines in some PDF-viewers\n",
    "im = absmax.plot.imshow(ax=axs[0],**maxplotkwargs) \n",
    "CS = np.clip(absmax, 0, 1).plot.contour(ax=axs[0],\n",
    "                                   **contourkwargs)\n",
    "im.colorbar.add_lines(CS)\n",
    "axs[0].plot(absmax['A'],\n",
    "            absmax['$\\sigma$'][absmax.argmin(dim='$\\sigma$')],  \n",
    "            '.', color='white')\n",
    "\n",
    "absmax = pltdat.loc['y'].max('n')\n",
    "im = absmax.plot.imshow(ax=axs[1], **maxplotkwargs)\n",
    "CS = np.clip(absmax, 0, 1).plot.contour(ax=axs[1],\n",
    "                                   **contourkwargs)\n",
    "im.colorbar.add_lines(CS)\n",
    "axs[1].plot(absmax['A'], \n",
    "            absmax['$\\sigma$'][absmax.argmin(dim='$\\sigma$')], \n",
    "            '.', color='white')\n",
    "\n",
    "absmean = pltdat.loc['x'].mean('n')\n",
    "im = absmean.plot.imshow(ax=axs[2], **meanplotkwargs)\n",
    "CS = np.clip(absmean, 0, 0.29).plot.contour(ax=axs[2],\n",
    "                                       **contourkwargs)\n",
    "im.colorbar.add_lines(CS)\n",
    "axs[2].plot(absmean['A'], \n",
    "            absmean['$\\sigma$'][absmean.argmin(dim='$\\sigma$')],\n",
    "            '.', color='white')\n",
    "\n",
    "absmean = pltdat.loc['y'].mean('n')\n",
    "im = absmean.plot.imshow(ax=axs[3], **meanplotkwargs)\n",
    "CS = np.clip(absmean, 0, 0.29).plot.contour(ax=axs[3],\n",
    "                                       **contourkwargs)\n",
    "im.colorbar.add_lines(CS)\n",
    "axs[3].plot(absmean['A'], \n",
    "            absmean['$\\sigma$'][absmean.argmin(dim='$\\sigma$')], \n",
    "            '.', color='white')\n",
    "\n",
    "for i,direction in enumerate(['x', 'y']):\n",
    "    ax = axs[4 + i]\n",
    "    ax.axhline(1. / length, c='black', alpha=0.5)\n",
    "    ax.plot(pltdat['A'], pltdat.loc[direction].max('n').min(dim='$\\sigma$'), c='black', alpha=0.5)\n",
    "    optimal = pltdat.loc[direction][{'$\\sigma$': pltdat.loc[direction].max('n').argmin(dim='$\\sigma$')}]\n",
    "    ax.fill_between(optimal['A'], *optimal.quantile([0.159, 0.841], dim='n'), color=f'C{i}', alpha=0.7)\n",
    "    ax.fill_between(optimal['A'], *optimal.quantile([0.023, 0.977], dim='n'), color=f'C{i}', alpha=0.4)\n",
    "    optimal.mean(dim='n').plot(ax=ax, color='white') # marker='.')\n",
    "    optimal.max(dim='n').plot(ax=ax, c='gray')\n",
    "    pltdat.loc[direction].max('n').min(dim='$\\sigma$')\n",
    "\n",
    "for ax in axs:\n",
    "    ax.set_xlim([0,1.95])\n",
    "for ax in axs[:4]:\n",
    "    ax.set_ylim([0, 10.8])\n",
    "for ax in axs[4:]:\n",
    "    ax.set_ylim([0, max(axs[4].get_ylim()[1], axs[5].get_ylim()[1])])\n",
    "    ax.yaxis.set_label_position(\"right\")\n",
    "    ax.tick_params(axis='y', labelright=True, labelleft=False)\n",
    "    ax.set_ylabel(\"Error (pixels)\")\n",
    "for ax in axs[1::2]:\n",
    "    ax.set_title(None)\n",
    "for ax in axs[::2]:\n",
    "    ax.set_xlabel(None)\n",
    "axs[0].set_title(\"Max error\")\n",
    "axs[2].set_title(\"Mean error\")\n",
    "axs[4].set_title(\"Optimal error spread\")\n",
    "    \n",
    "\n",
    "plt.savefig('simulation_error.pdf')"
   ]
  }
 ],
 "metadata": {
  "jupytext": {
   "formats": "ipynb,py:light"
  },
  "kernelspec": {
   "display_name": "Python 3",
   "language": "python",
   "name": "python3"
  },
  "language_info": {
   "codemirror_mode": {
    "name": "ipython",
    "version": 3
   },
   "file_extension": ".py",
   "mimetype": "text/x-python",
   "name": "python",
   "nbconvert_exporter": "python",
   "pygments_lexer": "ipython3",
   "version": "3.7.5"
  }
 },
 "nbformat": 4,
 "nbformat_minor": 4
}
