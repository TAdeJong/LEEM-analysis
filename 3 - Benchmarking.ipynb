{
 "cells": [
  {
   "cell_type": "markdown",
   "metadata": {},
   "source": [
    "# 3 - Benchmarking\n",
    "This notebook explores the performance of the driftcorrection algorithm as defined in `2 - Driftcorrection` by benchmarking the time it takes to driftcorrect stacks of different numbers of images."
   ]
  },
  {
   "cell_type": "code",
   "execution_count": 1,
   "metadata": {},
   "outputs": [],
   "source": [
    "# Needed imports\n",
    "from Registration import *\n",
    "import shutil\n",
    "import xarray as xr\n",
    "import time\n",
    "from dask.distributed import Client, LocalCluster\n",
    "import matplotlib.pyplot as plt\n",
    "import os\n",
    "import scipy.ndimage as ndi"
   ]
  },
  {
   "cell_type": "code",
   "execution_count": 2,
   "metadata": {},
   "outputs": [],
   "source": [
    "folder = r'./data'\n",
    "name = '20171120_160356_3.5um_591.4_IVhdr'\n",
    "original = xr.open_dataset(os.path.join(folder, name + '_detectorcorrected.nc'), chunks={'time': 1})\n",
    "original = original.Intensity.data"
   ]
  },
  {
   "cell_type": "code",
   "execution_count": 3,
   "metadata": {
    "lines_to_next_cell": 2
   },
   "outputs": [],
   "source": [
    "# Define fftsize used for the drift correction algorithm; actual size of the fft is twice this value.\n",
    "fftsize = 256 // 2"
   ]
  },
  {
   "cell_type": "markdown",
   "metadata": {},
   "source": [
    "Next, we define the grid of parameters for which we will perform the benchmark and the timings we want to save as an empty `xarray.DataArray`.\n",
    "\n",
    "**Note**: the parameters noted here will run for several hours at least even on reasonably fast hardware."
   ]
  },
  {
   "cell_type": "code",
   "execution_count": 4,
   "metadata": {},
   "outputs": [
    {
     "data": {
      "text/plain": [
       "Coordinates:\n",
       "  * i        (i) int32 0 1 2 3 4\n",
       "  * sigma    (sigma) int32 3 7 9 11 13 17\n",
       "  * strides  (strides) int32 35 50 70\n",
       "  * t        (t) int32 0 1 2 3 4"
      ]
     },
     "execution_count": 4,
     "metadata": {},
     "output_type": "execute_result"
    }
   ],
   "source": [
    "iters = np.arange(5)\n",
    "sigmas = [3, 7, 9, 11, 13, 17]\n",
    "#strides = np.array([1, 2, 3, 4, 5, 6, 7, 8, 9, 10, 15, 20, 35, 50, 70,])\n",
    "strides = np.array([35, 50, 70,])\n",
    "ts = [0,1,2,3,4]\n",
    "res = xr.DataArray(np.zeros((len(iters), len(sigmas), len(strides), len(ts))), \n",
    "             coords={'i':iters, 'sigma': sigmas, 'strides': strides.astype(np.int32), 't': ts}, \n",
    "             dims=['i','sigma', 'strides', 't'])\n",
    "res.coords"
   ]
  },
  {
   "cell_type": "markdown",
   "metadata": {},
   "source": [
    "Before we can start, we connect to the dask-scheduler and upload the used functions"
   ]
  },
  {
   "cell_type": "code",
   "execution_count": 5,
   "metadata": {},
   "outputs": [
    {
     "name": "stderr",
     "output_type": "stream",
     "text": [
      "C:\\ProgramData\\Anaconda3\\lib\\site-packages\\distributed\\dashboard\\core.py:72: UserWarning: \n",
      "Port 8787 is already in use. \n",
      "Perhaps you already have a cluster running?\n",
      "Hosting the diagnostics dashboard on a random port instead.\n",
      "  warnings.warn(\"\\n\" + msg)\n"
     ]
    },
    {
     "data": {
      "text/html": [
       "<table style=\"border: 2px solid white;\">\n",
       "<tr>\n",
       "<td style=\"vertical-align: top; border: 0px solid white\">\n",
       "<h3 style=\"text-align: left;\">Client</h3>\n",
       "<ul style=\"text-align: left; list-style: none; margin: 0; padding: 0;\">\n",
       "  <li><b>Scheduler: </b>tcp://127.0.0.1:49179</li>\n",
       "  <li><b>Dashboard: </b><a href='http://127.0.0.1:49182/status' target='_blank'>http://127.0.0.1:49182/status</a>\n",
       "</ul>\n",
       "</td>\n",
       "<td style=\"vertical-align: top; border: 0px solid white\">\n",
       "<h3 style=\"text-align: left;\">Cluster</h3>\n",
       "<ul style=\"text-align: left; list-style:none; margin: 0; padding: 0;\">\n",
       "  <li><b>Workers: </b>4</li>\n",
       "  <li><b>Cores: </b>8</li>\n",
       "  <li><b>Memory: </b>34.23 GB</li>\n",
       "</ul>\n",
       "</td>\n",
       "</tr>\n",
       "</table>"
      ],
      "text/plain": [
       "<Client: 'tcp://127.0.0.1:49179' processes=4 threads=8, memory=34.23 GB>"
      ]
     },
     "execution_count": 5,
     "metadata": {},
     "output_type": "execute_result"
    }
   ],
   "source": [
    "cluster = LocalCluster()\n",
    "client = Client(cluster)\n",
    "client.upload_file('Registration.py')\n",
    "client"
   ]
  },
  {
   "cell_type": "code",
   "execution_count": 6,
   "metadata": {},
   "outputs": [],
   "source": [
    "# Inferring output dtype is not supported in dask yet, so we need original.dtype here.\n",
    "@da.as_gufunc(signature=\"(i,j),(2)->(i,j)\", output_dtypes=original.dtype, vectorize=True)\n",
    "def shift_images(image, shift):\n",
    "    \"\"\"Shift `image` by `shift` pixels.\"\"\"\n",
    "    return ndi.shift(image, shift=shift, order=1)"
   ]
  },
  {
   "cell_type": "code",
   "execution_count": 7,
   "metadata": {
    "scrolled": true
   },
   "outputs": [
    {
     "name": "stdout",
     "output_type": "stream",
     "text": [
      "t_tot = 0.00\n",
      "n = 20, times = [2.03142834 2.03142834 2.89860201 4.12788677]\n",
      "t_tot = 4.14\n",
      "n = 20, times = [0.98663664 0.98663664 1.41778874 2.66311646]\n",
      "t_tot = 6.82\n",
      "n = 20, times = [1.15208054 1.15208054 1.69352651 2.76438689]\n",
      "t_tot = 9.59\n",
      "n = 20, times = [1.09893632 1.09993958 1.56718779 2.5989449 ]\n",
      "t_tot = 12.20\n",
      "n = 20, times = [1.01070023 1.01170254 1.40876555 2.45054889]\n",
      "t_tot = 14.67\n",
      "n = 20, times = [1.15709257 1.15709257 1.60830212 2.68417358]\n",
      "t_tot = 17.37\n",
      "n = 20, times = [1.10996652 1.10996652 1.52507448 2.59092784]\n",
      "t_tot = 19.98\n",
      "n = 20, times = [1.13703799 1.13804054 1.58924556 2.64607   ]\n",
      "t_tot = 22.64\n",
      "n = 20, times = [1.14104986 1.14104986 1.63537025 2.72327757]\n",
      "t_tot = 25.38\n",
      "n = 20, times = [1.11598349 1.11598349 1.66043758 2.72728872]\n",
      "t_tot = 28.12\n",
      "n = 20, times = [1.13804173 1.13804173 1.61832476 2.67815709]\n",
      "t_tot = 30.81\n",
      "n = 20, times = [1.08991337 1.08991337 1.57821965 2.67365479]\n",
      "t_tot = 33.50\n",
      "n = 20, times = [1.00067282 1.00067282 1.40876389 2.50569439]\n",
      "t_tot = 36.01\n",
      "n = 20, times = [1.12453389 1.12453389 1.58829641 2.68493915]\n",
      "t_tot = 38.71\n",
      "n = 20, times = [1.18969131 1.18969131 1.59035039 2.65549183]\n",
      "t_tot = 41.38\n",
      "n = 20, times = [1.15771198 1.15771198 1.58645511 2.62877345]\n",
      "t_tot = 44.02\n",
      "n = 20, times = [1.28443241 1.28443241 1.81585264 2.94441986]\n",
      "t_tot = 46.98\n",
      "n = 20, times = [1.1911819  1.1911819  1.61782169 2.79396868]\n",
      "t_tot = 49.78\n",
      "n = 20, times = [1.1831615  1.1831615  1.61130643 2.73280287]\n",
      "t_tot = 52.53\n",
      "n = 20, times = [1.20070696 1.20070696 1.59425807 2.6931951 ]\n",
      "t_tot = 55.23\n",
      "n = 20, times = [1.17965293 1.18015409 1.62688589 2.64556956]\n",
      "t_tot = 57.90\n",
      "n = 20, times = [1.16060233 1.16110253 1.73384619 2.80852938]\n",
      "t_tot = 60.72\n",
      "n = 20, times = [1.19272876 1.19272876 1.65465426 2.75258803]\n",
      "t_tot = 63.49\n",
      "n = 20, times = [1.15609026 1.15609026 1.57420659 2.6325264 ]\n",
      "t_tot = 66.13\n",
      "n = 20, times = [1.14806795 1.14856863 1.56818914 2.61649084]\n",
      "t_tot = 68.76\n",
      "n = 20, times = [1.26490974 1.26541066 1.78179216 2.81755853]\n",
      "t_tot = 71.60\n",
      "n = 20, times = [1.2648809  1.26538157 1.69452882 2.75486231]\n",
      "t_tot = 74.37\n",
      "n = 20, times = [1.21925879 1.21976018 1.62133217 2.67114592]\n",
      "t_tot = 77.05\n",
      "n = 20, times = [1.21075892 1.21075892 1.65098691 2.6691618 ]\n",
      "t_tot = 79.73\n",
      "n = 20, times = [1.20498657 1.20498657 1.71205807 2.77291059]\n",
      "t_tot = 82.53\n",
      "n = 14, times = [0.79763055 0.79763055 1.18824005 2.25459909]\n",
      "t_tot = 84.80\n",
      "n = 14, times = [0.87409425 0.87409425 1.23430991 2.28014708]\n",
      "t_tot = 87.09\n",
      "n = 14, times = [0.88140535 0.88140535 1.28614688 2.22937751]\n",
      "t_tot = 89.33\n",
      "n = 14, times = [0.82771134 0.82771134 1.15608907 2.12679505]\n",
      "t_tot = 91.47\n",
      "n = 14, times = [0.83422804 0.83472967 1.20623899 2.31720424]\n",
      "t_tot = 93.80\n",
      "n = 14, times = [0.91293716 0.91293716 1.28392863 2.27206874]\n",
      "t_tot = 96.08\n",
      "n = 14, times = [0.9059422  0.9059422  1.38171506 2.41196656]\n",
      "t_tot = 98.50\n",
      "n = 14, times = [0.8873713  0.88787365 1.31250858 2.48064661]\n",
      "t_tot = 100.99\n",
      "n = 14, times = [0.96611619 0.96712327 1.38563824 2.45068645]\n",
      "t_tot = 103.45\n",
      "n = 14, times = [0.87487483 0.87487483 1.28162813 2.24571347]\n",
      "t_tot = 105.71\n",
      "n = 14, times = [0.8783412  0.8783412  1.31751299 2.34926319]\n",
      "t_tot = 108.07\n",
      "n = 14, times = [0.88836813 0.88836813 1.28442311 2.3893702 ]\n",
      "t_tot = 110.47\n",
      "n = 14, times = [0.94351602 0.9445188  1.40775323 2.44953036]\n",
      "t_tot = 112.94\n",
      "n = 14, times = [0.96790075 0.96790075 1.38102627 2.31950331]\n",
      "t_tot = 115.27\n",
      "n = 14, times = [0.90842152 0.90842152 1.29645562 2.26002574]\n",
      "t_tot = 117.54\n",
      "n = 14, times = [0.89638853 0.89739108 1.23128152 2.26503754]\n",
      "t_tot = 119.81\n",
      "n = 14, times = [0.92747235 0.92747235 1.30247164 2.28408885]\n",
      "t_tot = 122.11\n",
      "n = 14, times = [0.91343594 0.91343594 1.33957148 2.39638901]\n",
      "t_tot = 124.52\n",
      "n = 14, times = [0.91343451 0.91443682 1.27640247 2.27005053]\n",
      "t_tot = 126.80\n",
      "n = 14, times = [0.90541315 0.90541315 1.21524096 2.12868214]\n",
      "t_tot = 128.94\n",
      "n = 14, times = [0.89839435 0.89939761 1.22626972 2.19384885]\n",
      "t_tot = 131.15\n",
      "n = 14, times = [0.9054141  0.9054141  1.28943777 2.25300717]\n",
      "t_tot = 133.41\n",
      "n = 14, times = [0.93549371 0.93549371 1.28843617 2.33622861]\n",
      "t_tot = 135.77\n",
      "n = 14, times = [0.97259068 0.97359371 1.36664128 2.46557093]\n",
      "t_tot = 138.24\n",
      "n = 14, times = [1.11597395 1.11597395 1.47894382 2.50066662]\n",
      "t_tot = 140.76\n",
      "n = 14, times = [1.08589578 1.08589578 1.49401069 2.51169634]\n",
      "t_tot = 143.28\n",
      "n = 14, times = [0.99665833 0.99665833 1.36263895 2.31617522]\n",
      "t_tot = 145.61\n",
      "n = 14, times = [0.98963809 0.98963809 1.31851506 2.3031404 ]\n",
      "t_tot = 147.92\n",
      "n = 14, times = [0.97660422 0.97660422 1.31951809 2.35728526]\n",
      "t_tot = 150.29\n",
      "n = 14, times = [0.9796114  0.9796114  1.34859586 2.35126877]\n",
      "t_tot = 152.70\n",
      "n = 10, times = [0.68482566 0.68482566 1.17011976 2.01336884]\n",
      "t_tot = 154.72\n",
      "n = 10, times = [0.68983889 0.68983889 1.03375745 1.86697793]\n",
      "t_tot = 156.60\n",
      "n = 10, times = [0.6818192  0.6818192  1.0066843  1.97727251]\n",
      "t_tot = 158.58\n",
      "n = 10, times = [0.72593093 0.72593093 1.15607858 2.0171659 ]\n",
      "t_tot = 160.61\n",
      "n = 10, times = [0.68382287 0.68382287 1.02373052 1.82486463]\n",
      "t_tot = 162.44\n",
      "n = 10, times = [0.67379475 0.67379475 1.01370192 1.78174758]\n",
      "t_tot = 164.23\n",
      "n = 10, times = [0.70588303 0.70588303 1.10397029 1.94318104]\n",
      "t_tot = 166.18\n",
      "n = 10, times = [0.72092152 0.72092152 1.06884956 1.87700438]\n",
      "t_tot = 168.07\n",
      "n = 10, times = [0.70688462 0.70688462 1.21927881 2.00835466]\n",
      "t_tot = 170.09\n",
      "n = 10, times = [0.73094893 0.73094893 1.09090948 1.84391642]\n",
      "t_tot = 171.94\n",
      "n = 10, times = [0.67680407 0.67680407 0.98766875 1.72560096]\n",
      "t_tot = 173.67\n",
      "n = 10, times = [0.70688915 0.70688915 1.12098956 2.02539992]\n",
      "t_tot = 175.71\n",
      "n = 10, times = [0.74398398 0.74398398 1.11196542 1.91911578]\n",
      "t_tot = 177.64\n",
      "n = 10, times = [0.74799371 0.74799371 1.08088565 1.93917441]\n",
      "t_tot = 179.58\n",
      "n = 10, times = [0.70287323 0.70287323 1.03074908 1.83088088]\n",
      "t_tot = 181.43\n",
      "n = 10, times = [0.78851151 0.78851151 1.12598777 2.00687265]\n",
      "t_tot = 183.44\n",
      "n = 10, times = [0.84174395 0.84174395 1.50567293 2.43013835]\n",
      "t_tot = 185.88\n",
      "n = 10, times = [0.75651622 0.75651622 1.10698032 2.00233912]\n",
      "t_tot = 187.89\n",
      "n = 10, times = [0.74749064 0.74749064 1.07636809 1.89782715]\n",
      "t_tot = 189.80\n",
      "n = 10, times = [0.73696399 0.73696399 1.08440495 1.88905072]\n",
      "t_tot = 191.70\n",
      "n = 10, times = [0.74548793 0.74548793 1.08238626 1.87651873]\n",
      "t_tot = 193.59\n",
      "n = 10, times = [0.71544623 0.71644926 1.05037618 1.85249829]\n",
      "t_tot = 195.44\n",
      "n = 10, times = [0.74605036 0.74605036 1.07663798 1.86725974]\n",
      "t_tot = 197.32\n",
      "n = 10, times = [0.77576399 0.77576399 1.14575362 1.94087434]\n",
      "t_tot = 199.27\n",
      "n = 10, times = [0.73596215 0.73596215 1.15507889 2.02821898]\n",
      "t_tot = 201.31\n",
      "n = 10, times = [0.88575315 0.88575315 1.41017294 2.21231127]\n",
      "t_tot = 203.53\n",
      "n = 10, times = [0.87449384 0.87449384 1.21205258 1.95403004]\n",
      "t_tot = 205.49\n",
      "n = 10, times = [0.71791363 0.71791363 1.08188462 1.91410232]\n",
      "t_tot = 207.41\n",
      "n = 10, times = [0.81247759 0.81247759 1.2639091  2.01290631]\n",
      "t_tot = 209.43\n",
      "n = 10, times = [0.84075928 0.84126067 1.19169402 2.01037717]\n"
     ]
    }
   ],
   "source": [
    "tstart = time.time()\n",
    "t = np.zeros((5,))\n",
    "for stride in strides:\n",
    "    for sigma in sigmas:\n",
    "        for i in iters:\n",
    "            t[0] = time.time() - tstart\n",
    "            #start, stride, dE = 40, 1, 10\n",
    "            start, stop, dE = 40, 740, 10\n",
    "            #stop = start + n\n",
    "            Eslice = slice(start, stop, stride)\n",
    "            sliced_data = original[Eslice,...].rechunk({0:dE})\n",
    "            sobel = crop_and_filter(sliced_data, \n",
    "                                    sigma=sigma, finalsize=2*fftsize)\n",
    "            sobel = sobel - sobel.mean(axis=(1,2), keepdims=True)  \n",
    "            Corr = dask_cross_corr(sobel)\n",
    "            weights, argmax = max_and_argmax(Corr)\n",
    "            W, DX_DY = calculate_halfmatrices(weights, argmax, fftsize=fftsize)\n",
    "            t[1] = (time.time() - (t[0]+tstart))\n",
    "            coords = np.arange(sliced_data.shape[0])\n",
    "            coords, weightmatrix, DX, DY, row_mask = threshold_and_mask(0.0, W, DX_DY, coords=coords)\n",
    "            t[2] = (time.time() - (t[0]+tstart))\n",
    "            dx, dy = calc_shift_vectors(DX, DY, weightmatrix)\n",
    "            t[3] = (time.time() - (t[0]+tstart))\n",
    "            shifts = np.stack(interp_shifts(coords, [dx, dy], n=sliced_data.shape[0]), axis=1)\n",
    "            neededMargins = np.ceil(shifts.max(axis=0)).astype(int)\n",
    "            shifts = da.from_array(shifts, chunks=(dE,-1))\n",
    "            padded = da.pad(sliced_data, \n",
    "                            ((0, 0), \n",
    "                             (0, neededMargins[0]), \n",
    "                             (0, neededMargins[1])\n",
    "                            ),\n",
    "                            mode='constant'\n",
    "                           )\n",
    "            corrected = shift_images(padded.rechunk({1:-1, 2:-1}), shifts)\n",
    "            corrected[:sliced_data.shape[0]].to_zarr(r'./tempresult.zarr', overwrite=True)\n",
    "            t[4] = (time.time() - (t[0]+tstart))\n",
    "            res.loc[dict(i=i,sigma=sigma,strides=stride)] = t\n",
    "            shutil.rmtree(r'tempresult.zarr')\n",
    "            print(f\"t_tot = {t[0]:.2f}\\nn = {corrected.shape[0]}, times = {t[1:]}\")\n",
    "    res.to_netcdf(os.path.join(folder, 'benchmarkresult.nc'))"
   ]
  },
  {
   "cell_type": "markdown",
   "metadata": {},
   "source": [
    "## Plotting\n",
    "We can plot the results of either the benchmark run above or the reference results. This is done using `xarray` plotting interface on the created datasets. First we do some cleaning up of the data and recombination:"
   ]
  },
  {
   "cell_type": "code",
   "execution_count": 13,
   "metadata": {},
   "outputs": [],
   "source": [
    "data = xr.open_dataarray(os.path.join(folder, 'benchmarkresult_reference_int32.nc')) # One can remove _reference to view newly generated results"
   ]
  },
  {
   "cell_type": "code",
   "execution_count": 11,
   "metadata": {},
   "outputs": [],
   "source": [
    "# We are interested in the times each individual step took, \n",
    "# instead of the time upto that step which is saved, so take a diff\n",
    "\n",
    "data = xr.concat([data.isel(t=1), data.isel(t=slice(2,5)).diff(dim='t', label='lower'), data.isel(t=4)], 't')\n",
    "data.attrs['long_name'] = 'Run time'\n",
    "data.attrs['units'] = 's'\n",
    "\n",
    "# Define a nicer 'Phase' of the algorithm dimension instead of 't', as it is saved in the file.\n",
    "data.coords['Phase'] = ('t', ['Filter+CC', 'Least Squares', 'Shift and write', 'Total']) \n",
    "data = data.swap_dims({'t': 'Phase'})\n",
    "data.coords['N'] = ('strides', 700//data.coords['strides'])\n",
    "data = data.swap_dims({'strides': 'N'})"
   ]
  },
  {
   "cell_type": "markdown",
   "metadata": {},
   "source": [
    "And now we are ready to actually plot."
   ]
  },
  {
   "cell_type": "code",
   "execution_count": 12,
   "metadata": {
    "lines_to_next_cell": 0
   },
   "outputs": [
    {
     "data": {
      "image/png": "[encoded data removed]",
      "text/plain": [
       "<Figure size 467.802x144 with 4 Axes>"
      ]
     },
     "metadata": {
      "needs_background": "light"
     },
     "output_type": "display_data"
    }
   ],
   "source": [
    "#Take the mean over the iterations\n",
    "red = data.mean(dim='i', keep_attrs=True)\n",
    "\n",
    "facetgrid = red.plot.line('.', col='Phase', hue='sigma', \n",
    "                          yscale='log', xscale='log', ylim=[0.1, 1000], \n",
    "                          figsize=[6,2], alpha=0.8)\n",
    "\n",
    "# Add guidelines in red for quadratic in green for linear.\n",
    "facetgrid.axes[0,0].plot(data['N'], 0.0012*data['N']**2, c='red', zorder=0, alpha=0.5)\n",
    "facetgrid.axes[0,1].plot(data['N'], 0.00025*data['N']**2, c='red', zorder=0, alpha=0.5)\n",
    "facetgrid.axes[0,1].plot(data['N'], 0.0035*data['N'], c='green', zorder=0, alpha=0.5)\n",
    "facetgrid.axes[0,2].plot(data['N'], 0.02*data['N'], c='green', zorder=0, alpha=0.5)\n",
    "facetgrid.axes[0,3].plot(data['N'], 0.0012*data['N']**2, c='red', zorder=0, alpha=0.5)\n",
    "# Replace default plot titles with a somewhat nicer version\n",
    "facetgrid.axes[0,0].set_title('Phase:\\nFilter & CC')\n",
    "facetgrid.axes[0,1].set_title('Phase:\\nLeast Squares')\n",
    "facetgrid.axes[0,2].set_title('Phase:\\nShift & write')\n",
    "facetgrid.axes[0,3].set_title('Total')\n",
    "plt.subplots_adjust(top=0.8, bottom=0.18, left=0.08, wspace=0.1)\n",
    "#plt.savefig('timebench.pdf')"
   ]
  },
  {
   "cell_type": "code",
   "execution_count": null,
   "metadata": {
    "lines_to_next_cell": 2
   },
   "outputs": [],
   "source": []
  }
 ],
 "metadata": {
  "jupytext": {
   "formats": "ipynb,py:light"
  },
  "kernelspec": {
   "display_name": "Python 3",
   "language": "python",
   "name": "python3"
  },
  "language_info": {
   "codemirror_mode": {
    "name": "ipython",
    "version": 3
   },
   "file_extension": ".py",
   "mimetype": "text/x-python",
   "name": "python",
   "nbconvert_exporter": "python",
   "pygments_lexer": "ipython3",
   "version": "3.6.9"
  }
 },
 "nbformat": 4,
 "nbformat_minor": 4
}
