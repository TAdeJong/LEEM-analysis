{
 "cells": [
  {
   "cell_type": "markdown",
   "metadata": {},
   "source": [
    "# 3 - Benchmarking\n",
    "This notebook explores the performance of the driftcorrection algorithm as defined in `2 - Driftcorrection` by benchmarking the time it takes to driftcorrected stacks of different numbers of images."
   ]
  },
  {
   "cell_type": "code",
   "execution_count": 1,
   "metadata": {},
   "outputs": [],
   "source": [
    "# Needed imports\n",
    "from Registration import *\n",
    "import shutil\n",
    "import xarray as xr\n",
    "import time\n",
    "from dask.distributed import Client, LocalCluster\n",
    "import matplotlib.pyplot as plt\n",
    "import os"
   ]
  },
  {
   "cell_type": "code",
   "execution_count": 2,
   "metadata": {},
   "outputs": [],
   "source": [
    "folder = r'./data'\n",
    "name = '20171120_160356_3.5um_591.4_IVhdr'\n",
    "original = xr.open_dataset(os.path.join(folder, name + '_detectorcorrected.nc'), chunks={'time': 1})\n",
    "original = original.Intensity.data"
   ]
  },
  {
   "cell_type": "code",
   "execution_count": 3,
   "metadata": {
    "lines_to_next_cell": 2
   },
   "outputs": [],
   "source": [
    "# Define a bunch of constants\n",
    "fftsize = 256 // 2"
   ]
  },
  {
   "cell_type": "markdown",
   "metadata": {},
   "source": [
    "Next, we define the grid of parameters for which we will perform the benchmark and the timings we want to save as an empty `xarray.DataArray`."
   ]
  },
  {
   "cell_type": "code",
   "execution_count": 4,
   "metadata": {},
   "outputs": [
    {
     "data": {
      "text/plain": [
       "Coordinates:\n",
       "  * i        (i) int64 0 1 2 3 4\n",
       "  * sigma    (sigma) int64 3 7 9 11 13 17\n",
       "  * strides  (strides) int64 1 2 3 4 5 6 7 8 9 10 15 20 35 50 70\n",
       "  * t        (t) int64 0 1 2 3 4"
      ]
     },
     "execution_count": 4,
     "metadata": {},
     "output_type": "execute_result"
    }
   ],
   "source": [
    "iters = np.arange(5)\n",
    "sigmas = [3, 7, 9, 11, 13, 17]\n",
    "strides = np.array([1, 2, 3, 4, 5, 6, 7, 8, 9, 10, 15, 20, 35, 50, 70,])\n",
    "ts = [0,1,2,3,4]\n",
    "res = xr.DataArray(np.zeros((len(iters), len(sigmas), len(strides), len(ts))), \n",
    "             coords={'i':iters, 'sigma': sigmas, 'strides': strides, 't': ts}, \n",
    "             dims=['i','sigma', 'strides', 't'])\n",
    "res.coords"
   ]
  },
  {
   "cell_type": "markdown",
   "metadata": {},
   "source": [
    "Before we can start, we connect to the dask-scheduler and upload the used functions"
   ]
  },
  {
   "cell_type": "code",
   "execution_count": null,
   "metadata": {},
   "outputs": [],
   "source": [
    "cluster = LocalCluster()\n",
    "client = Client(cluster)\n",
    "client.upload_file('Registration.py')\n",
    "client"
   ]
  },
  {
   "cell_type": "code",
   "execution_count": null,
   "metadata": {
    "scrolled": true
   },
   "outputs": [],
   "source": [
    "tstart = time.time()\n",
    "t = np.zeros((5,))\n",
    "for p, stride in enumerate(strides):\n",
    "    for sigma in sigmas:\n",
    "        if p == 0:\n",
    "            break\n",
    "        for i in iters:\n",
    "            t[0] = time.time() - tstart\n",
    "            #start, stride, dE = 40, 1, 10\n",
    "            start, stop, dE = 40, 740, 10\n",
    "            #stop = start + n\n",
    "            Eslice = slice(start, stop, stride)\n",
    "            sliced_data = original[Eslice,...].rechunk({0:dE})\n",
    "            sobel = crop_and_filter(sliced_data, \n",
    "                                    sigma=sigma, finalsize=2*fftsize)\n",
    "            sobel = sobel - sobel.mean(axis=(1,2), keepdims=True)  \n",
    "            Corr = dask_cross_corr(sobel)\n",
    "            weights, argmax = max_and_argmax(Corr)\n",
    "            Wc, Mc = calculate_halfmatrices(weights, argmax, fftsize=fftsize)\n",
    "            t[1] = (time.time() - (t[0]+tstart))\n",
    "            coords = np.arange(sliced_data)\n",
    "            coords, weightmatrix, DX, DY, row_mask = threshold_and_mask(0.0, Wc, Mc, coords=coords)\n",
    "            t[2] = (time.time() - (t[0]+tstart))\n",
    "            dx, dy = calc_shift_vectors(DX, DY, weightmatrix)\n",
    "            t[3] = (time.time() - (t[0]+tstart))\n",
    "            shifts = np.stack(interp_shifts(coords, [dx, dy], n=sliced_data.shape[0]), axis=1)\n",
    "            neededMargins = np.ceil(shifts.max(axis=0)).astype(int)\n",
    "            shifts = da.from_array(shifts[..., np.newaxis], chunks=(dE,-1,1))\n",
    "            corrected = da.map_blocks(shift_block, sliced_data, shifts,\n",
    "                          margins=neededMargins,\n",
    "                          dtype=sliced_data.dtype, \n",
    "                          chunks=(dE,\n",
    "                                  sliced_data.shape[1] + neededMargins[0], \n",
    "                                  sliced_data.shape[2] + neededMargins[1]),\n",
    "                         )\n",
    "            corrected[:sliced_data.shape[0]].to_zarr(r'./tempresult.zarr', overwrite=True)\n",
    "            t[4] = (time.time() - (t[0]+tstart))\n",
    "            res.loc[dict(i=i,sigma=sigma,strides=stride)] = t\n",
    "            shutil.rmtree(r'tempresult.zarr')\n",
    "            print(t, corrected.shape, weights.shape)\n",
    "    res.to_netcdf(os.path.join(folder, 'benchmarkresult.nc'))"
   ]
  },
  {
   "cell_type": "markdown",
   "metadata": {},
   "source": [
    "## Plotting\n",
    "We can plot the results of either the benchmark run above or the reference results. This is done using `xarray` plotting interface on the created datasets. First we do some cleaning up of the data and recombination:"
   ]
  },
  {
   "cell_type": "code",
   "execution_count": 5,
   "metadata": {},
   "outputs": [
    {
     "data": {
      "text/plain": [
       "<xarray.DataArray (i: 5, sigma: 6, strides: 15, t: 5)>\n",
       "array([[[[    0.      , ...,     0.      ],\n",
       "         ...,\n",
       "         [13330.485122, ...,   803.861822]],\n",
       "\n",
       "        ...,\n",
       "\n",
       "        [[    0.      , ...,     0.      ],\n",
       "         ...,\n",
       "         [33022.241594, ...,   715.500028]]],\n",
       "\n",
       "\n",
       "       ...,\n",
       "\n",
       "\n",
       "       [[[    0.      , ...,     0.      ],\n",
       "         ...,\n",
       "         [16565.897924, ...,   812.576155]],\n",
       "\n",
       "        ...,\n",
       "\n",
       "        [[    0.      , ...,     0.      ],\n",
       "         ...,\n",
       "         [35879.249949, ...,   715.05365 ]]]])\n",
       "Coordinates:\n",
       "  * sigma    (sigma) int32 3 7 9 11 13 17\n",
       "  * t        (t) int32 0 1 2 3 4\n",
       "  * i        (i) int32 0 1 2 3 4\n",
       "  * strides  (strides) int64 15 20 35 50 70 10 9 8 7 6 5 4 3 2 1"
      ]
     },
     "execution_count": 5,
     "metadata": {},
     "output_type": "execute_result"
    }
   ],
   "source": [
    "data = xr.open_dataarray(os.path.join(folder, 'benchmarkresult_reference.nc')) #remove _reference to view newly generated results\n",
    "data"
   ]
  },
  {
   "cell_type": "code",
   "execution_count": 6,
   "metadata": {},
   "outputs": [],
   "source": [
    "# We are interested in the times each individual step took, \n",
    "# instead of the time upto that step which is saved, so take a diff\n",
    "\n",
    "data = xr.concat([data.isel(t=1), data.isel(t=slice(2,5)).diff(dim='t', label='lower'), data.isel(t=4)], 't')\n",
    "data.attrs['long_name'] = 'Run time'\n",
    "data.attrs['units'] = 's'\n",
    "\n",
    "# Define a nicer 'Phase' dimension instead of 't'\n",
    "data.coords['Phase'] = ('t', ['Filter+CC', 'Least Squares', 'Shift and write', 'Total']) \n",
    "data = data.swap_dims({'t': 'Phase'})\n",
    "data.coords['N'] = ('strides', 700//data.coords['strides'])\n",
    "data = data.swap_dims({'strides': 'N'})"
   ]
  },
  {
   "cell_type": "markdown",
   "metadata": {},
   "source": [
    "And now we are ready to actually plot."
   ]
  },
  {
   "cell_type": "code",
   "execution_count": 7,
   "metadata": {
    "lines_to_next_cell": 0
   },
   "outputs": [
    {
     "data": {
      "image/png": "[encoded data removed]",
      "text/plain": [
       "<Figure size 480.75x144 with 4 Axes>"
      ]
     },
     "metadata": {
      "needs_background": "light"
     },
     "output_type": "display_data"
    }
   ],
   "source": [
    "#Take the mean over the iterations\n",
    "red = data.mean(dim='i', keep_attrs=True)\n",
    "\n",
    "facetgrid = red.plot.line('.', col='Phase', hue='sigma', \n",
    "                          yscale='log', xscale='log', ylim=[0.1, 1000], \n",
    "                          figsize=[6,2], alpha=0.8)\n",
    "\n",
    "# Add guidelines in red for quadratic in green for linear.\n",
    "facetgrid.axes[0,0].plot(data['N'], 0.0012*data['N']**2, c='red', zorder=0, alpha=0.5)\n",
    "facetgrid.axes[0,1].plot(data['N'], 0.00025*data['N']**2, c='red', zorder=0, alpha=0.5)\n",
    "facetgrid.axes[0,1].plot(data['N'], 0.0035*data['N'], c='green', zorder=0, alpha=0.5)\n",
    "facetgrid.axes[0,2].plot(data['N'], 0.02*data['N'], c='green', zorder=0, alpha=0.5)\n",
    "facetgrid.axes[0,3].plot(data['N'], 0.0012*data['N']**2, c='red', zorder=0, alpha=0.5)\n",
    "# Replace default plot titles with a somewhat nicer version\n",
    "facetgrid.axes[0,0].set_title('Phase:\\nFilter & CC')\n",
    "facetgrid.axes[0,1].set_title('Phase:\\nLeast Squares')\n",
    "facetgrid.axes[0,2].set_title('Phase:\\nShift & write')\n",
    "facetgrid.axes[0,3].set_title('Total')\n",
    "plt.subplots_adjust(top=0.8, bottom=0.18, left=0.08, wspace=0.1)\n",
    "#plt.savefig('timebench.pdf')"
   ]
  },
  {
   "cell_type": "code",
   "execution_count": null,
   "metadata": {
    "lines_to_next_cell": 2
   },
   "outputs": [],
   "source": []
  }
 ],
 "metadata": {
  "jupytext": {
   "formats": "ipynb,py:light"
  },
  "kernelspec": {
   "display_name": "Python 3",
   "language": "python",
   "name": "python3"
  },
  "language_info": {
   "codemirror_mode": {
    "name": "ipython",
    "version": 3
   },
   "file_extension": ".py",
   "mimetype": "text/x-python",
   "name": "python",
   "nbconvert_exporter": "python",
   "pygments_lexer": "ipython3",
   "version": "3.6.9"
  }
 },
 "nbformat": 4,
 "nbformat_minor": 4
}
