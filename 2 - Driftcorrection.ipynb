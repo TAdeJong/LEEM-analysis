{
 "cells": [
  {
   "cell_type": "code",
   "execution_count": 4,
   "metadata": {},
   "outputs": [],
   "source": [
    "import numpy as np\n",
    "import os\n",
    "import numba\n",
    "import time\n",
    "import dask\n",
    "\n",
    "import dask.array as da\n",
    "from dask.delayed import delayed\n",
    "from dask.distributed import Client, LocalCluster\n",
    "import xarray as xr\n",
    "import matplotlib.pyplot as plt\n",
    "import matplotlib as mpl\n",
    "\n",
    "import ipywidgets as widgets\n",
    "from ipywidgets import interactive\n",
    "\n",
    "from scipy.optimize import least_squares\n",
    "#from scipy.ndimage.interpolation import shift \n",
    "import scipy.ndimage as ndi\n",
    "import scipy.sparse as sp\n",
    "from scipy.interpolate import interp1d\n",
    "\n",
    "from skimage import filters\n",
    "\n",
    "\n",
    "from Registration import *"
   ]
  },
  {
   "cell_type": "code",
   "execution_count": 5,
   "metadata": {},
   "outputs": [
    {
     "data": {
      "text/html": [
       "<table style=\"border: 2px solid white;\">\n",
       "<tr>\n",
       "<td style=\"vertical-align: top; border: 0px solid white\">\n",
       "<h3 style=\"text-align: left;\">Client</h3>\n",
       "<ul style=\"text-align: left; list-style: none; margin: 0; padding: 0;\">\n",
       "  <li><b>Scheduler: </b>tcp://127.0.0.1:54815</li>\n",
       "  <li><b>Dashboard: </b><a href='http://127.0.0.1:8787/status' target='_blank'>http://127.0.0.1:8787/status</a>\n",
       "</ul>\n",
       "</td>\n",
       "<td style=\"vertical-align: top; border: 0px solid white\">\n",
       "<h3 style=\"text-align: left;\">Cluster</h3>\n",
       "<ul style=\"text-align: left; list-style:none; margin: 0; padding: 0;\">\n",
       "  <li><b>Workers: </b>1</li>\n",
       "  <li><b>Cores: </b>8</li>\n",
       "  <li><b>Memory: </b>34.23 GB</li>\n",
       "</ul>\n",
       "</td>\n",
       "</tr>\n",
       "</table>"
      ],
      "text/plain": [
       "<Client: 'tcp://127.0.0.1:54815' processes=1 threads=8, memory=34.23 GB>"
      ]
     },
     "execution_count": 5,
     "metadata": {},
     "output_type": "execute_result"
    }
   ],
   "source": [
    "plt.rcParams[\"figure.figsize\"] = [12., 8.]\n",
    "cluster = LocalCluster(n_workers=1, threads_per_worker=8)\n",
    "client = Client(cluster)\n",
    "client"
   ]
  },
  {
   "cell_type": "code",
   "execution_count": 6,
   "metadata": {
    "lines_to_next_cell": 1
   },
   "outputs": [],
   "source": [
    "client.upload_file('Registration.py')\n",
    "\n",
    "def plot_stack(images, n, grid=False):\n",
    "    \"\"\"Plot the n-th image from a stack of n images.\n",
    "    For interactive use with ipython widgets\"\"\"\n",
    "    im = images[n, :, :].compute()\n",
    "    plt.figure(figsize=[12,10])\n",
    "    plt.imshow(im.T, cmap='gray', vmax=im.max())\n",
    "    if grid:\n",
    "        plt.grid()\n",
    "    plt.show()"
   ]
  },
  {
   "cell_type": "code",
   "execution_count": 7,
   "metadata": {},
   "outputs": [],
   "source": [
    "folder = r'./data'\n",
    "#name = '20171120_160356_3.5um_591.4_IVhdr'\n",
    "#start, stop, stride, dE = 40, -1, 1, 10 #BF\n",
    "\n",
    "name = '20171120_215555_3.5um_583.1_IVhdr_DF2'\n",
    "start, stop, stride, dE = 0, -1, 1, 10 #DF\n",
    "Eslice = slice(start, stop, stride)\n",
    "\n",
    "# Grab a window of 2*fftsize around the center of the picture\n",
    "fftsize=256 * 2 // 2\n",
    "z_factor = 1"
   ]
  },
  {
   "cell_type": "code",
   "execution_count": 8,
   "metadata": {},
   "outputs": [],
   "source": [
    "original = xr.open_dataset(os.path.join(folder, name + '_detectorcorrected.nc'), chunks={'time': dE})\n",
    "original = original.Intensity.data"
   ]
  },
  {
   "cell_type": "code",
   "execution_count": 9,
   "metadata": {},
   "outputs": [
    {
     "data": {
      "application/vnd.jupyter.widget-view+json": {
       "model_id": "8f29642336554dadb90c1b74f80df337",
       "version_major": 2,
       "version_minor": 0
      },
      "text/plain": [
       "interactive(children=(IntSlider(value=206, continuous_update=False, description='n', max=411), Output()), _dom…"
      ]
     },
     "metadata": {},
     "output_type": "display_data"
    }
   ],
   "source": [
    "interactive(lambda n: plot_stack(original, n), \n",
    "            n=widgets.IntSlider(original.shape[0]//2, 0, original.shape[0]-1, 1, continuous_update=False)\n",
    "           ) "
   ]
  },
  {
   "cell_type": "code",
   "execution_count": 10,
   "metadata": {},
   "outputs": [
    {
     "data": {
      "text/html": [
       "<table>\n",
       "<tr>\n",
       "<td>\n",
       "<table>\n",
       "  <thead>\n",
       "    <tr><td> </td><th> Array </th><th> Chunk </th></tr>\n",
       "  </thead>\n",
       "  <tbody>\n",
       "    <tr><th> Bytes </th><td> 861.93 MB </td> <td> 20.97 MB </td></tr>\n",
       "    <tr><th> Shape </th><td> (411, 512, 512) </td> <td> (10, 512, 512) </td></tr>\n",
       "    <tr><th> Count </th><td> 337 Tasks </td><td> 42 Chunks </td></tr>\n",
       "    <tr><th> Type </th><td> float64 </td><td> numpy.ndarray </td></tr>\n",
       "  </tbody>\n",
       "</table>\n",
       "</td>\n",
       "<td>\n",
       "<svg width=\"236\" height=\"226\" style=\"stroke:rgb(0,0,0);stroke-width:1\" >\n",
       "\n",
       "  <!-- Horizontal lines -->\n",
       "  <line x1=\"10\" y1=\"0\" x2=\"66\" y2=\"56\" style=\"stroke-width:2\" />\n",
       "  <line x1=\"10\" y1=\"120\" x2=\"66\" y2=\"176\" style=\"stroke-width:2\" />\n",
       "\n",
       "  <!-- Vertical lines -->\n",
       "  <line x1=\"10\" y1=\"0\" x2=\"10\" y2=\"120\" style=\"stroke-width:2\" />\n",
       "  <line x1=\"11\" y1=\"1\" x2=\"11\" y2=\"121\" />\n",
       "  <line x1=\"12\" y1=\"2\" x2=\"12\" y2=\"122\" />\n",
       "  <line x1=\"14\" y1=\"4\" x2=\"14\" y2=\"124\" />\n",
       "  <line x1=\"15\" y1=\"5\" x2=\"15\" y2=\"125\" />\n",
       "  <line x1=\"16\" y1=\"6\" x2=\"16\" y2=\"126\" />\n",
       "  <line x1=\"18\" y1=\"8\" x2=\"18\" y2=\"128\" />\n",
       "  <line x1=\"19\" y1=\"9\" x2=\"19\" y2=\"129\" />\n",
       "  <line x1=\"21\" y1=\"11\" x2=\"21\" y2=\"131\" />\n",
       "  <line x1=\"22\" y1=\"12\" x2=\"22\" y2=\"132\" />\n",
       "  <line x1=\"23\" y1=\"13\" x2=\"23\" y2=\"133\" />\n",
       "  <line x1=\"25\" y1=\"15\" x2=\"25\" y2=\"135\" />\n",
       "  <line x1=\"26\" y1=\"16\" x2=\"26\" y2=\"136\" />\n",
       "  <line x1=\"27\" y1=\"17\" x2=\"27\" y2=\"137\" />\n",
       "  <line x1=\"29\" y1=\"19\" x2=\"29\" y2=\"139\" />\n",
       "  <line x1=\"30\" y1=\"20\" x2=\"30\" y2=\"140\" />\n",
       "  <line x1=\"32\" y1=\"22\" x2=\"32\" y2=\"142\" />\n",
       "  <line x1=\"33\" y1=\"23\" x2=\"33\" y2=\"143\" />\n",
       "  <line x1=\"34\" y1=\"24\" x2=\"34\" y2=\"144\" />\n",
       "  <line x1=\"36\" y1=\"26\" x2=\"36\" y2=\"146\" />\n",
       "  <line x1=\"37\" y1=\"27\" x2=\"37\" y2=\"147\" />\n",
       "  <line x1=\"38\" y1=\"28\" x2=\"38\" y2=\"148\" />\n",
       "  <line x1=\"40\" y1=\"30\" x2=\"40\" y2=\"150\" />\n",
       "  <line x1=\"41\" y1=\"31\" x2=\"41\" y2=\"151\" />\n",
       "  <line x1=\"43\" y1=\"33\" x2=\"43\" y2=\"153\" />\n",
       "  <line x1=\"44\" y1=\"34\" x2=\"44\" y2=\"154\" />\n",
       "  <line x1=\"45\" y1=\"35\" x2=\"45\" y2=\"155\" />\n",
       "  <line x1=\"47\" y1=\"37\" x2=\"47\" y2=\"157\" />\n",
       "  <line x1=\"48\" y1=\"38\" x2=\"48\" y2=\"158\" />\n",
       "  <line x1=\"49\" y1=\"39\" x2=\"49\" y2=\"159\" />\n",
       "  <line x1=\"51\" y1=\"41\" x2=\"51\" y2=\"161\" />\n",
       "  <line x1=\"52\" y1=\"42\" x2=\"52\" y2=\"162\" />\n",
       "  <line x1=\"54\" y1=\"44\" x2=\"54\" y2=\"164\" />\n",
       "  <line x1=\"55\" y1=\"45\" x2=\"55\" y2=\"165\" />\n",
       "  <line x1=\"56\" y1=\"46\" x2=\"56\" y2=\"166\" />\n",
       "  <line x1=\"58\" y1=\"48\" x2=\"58\" y2=\"168\" />\n",
       "  <line x1=\"59\" y1=\"49\" x2=\"59\" y2=\"169\" />\n",
       "  <line x1=\"61\" y1=\"51\" x2=\"61\" y2=\"171\" />\n",
       "  <line x1=\"62\" y1=\"52\" x2=\"62\" y2=\"172\" />\n",
       "  <line x1=\"63\" y1=\"53\" x2=\"63\" y2=\"173\" />\n",
       "  <line x1=\"65\" y1=\"55\" x2=\"65\" y2=\"175\" />\n",
       "  <line x1=\"66\" y1=\"56\" x2=\"66\" y2=\"176\" />\n",
       "  <line x1=\"66\" y1=\"56\" x2=\"66\" y2=\"176\" style=\"stroke-width:2\" />\n",
       "\n",
       "  <!-- Colored Rectangle -->\n",
       "  <polygon points=\"10.000000,0.000000 66.663603,56.663603 66.663603,176.663603 10.000000,120.000000\" style=\"fill:#ECB172A0;stroke-width:0\"/>\n",
       "\n",
       "  <!-- Horizontal lines -->\n",
       "  <line x1=\"10\" y1=\"0\" x2=\"130\" y2=\"0\" style=\"stroke-width:2\" />\n",
       "  <line x1=\"11\" y1=\"1\" x2=\"131\" y2=\"1\" />\n",
       "  <line x1=\"12\" y1=\"2\" x2=\"132\" y2=\"2\" />\n",
       "  <line x1=\"14\" y1=\"4\" x2=\"134\" y2=\"4\" />\n",
       "  <line x1=\"15\" y1=\"5\" x2=\"135\" y2=\"5\" />\n",
       "  <line x1=\"16\" y1=\"6\" x2=\"136\" y2=\"6\" />\n",
       "  <line x1=\"18\" y1=\"8\" x2=\"138\" y2=\"8\" />\n",
       "  <line x1=\"19\" y1=\"9\" x2=\"139\" y2=\"9\" />\n",
       "  <line x1=\"21\" y1=\"11\" x2=\"141\" y2=\"11\" />\n",
       "  <line x1=\"22\" y1=\"12\" x2=\"142\" y2=\"12\" />\n",
       "  <line x1=\"23\" y1=\"13\" x2=\"143\" y2=\"13\" />\n",
       "  <line x1=\"25\" y1=\"15\" x2=\"145\" y2=\"15\" />\n",
       "  <line x1=\"26\" y1=\"16\" x2=\"146\" y2=\"16\" />\n",
       "  <line x1=\"27\" y1=\"17\" x2=\"147\" y2=\"17\" />\n",
       "  <line x1=\"29\" y1=\"19\" x2=\"149\" y2=\"19\" />\n",
       "  <line x1=\"30\" y1=\"20\" x2=\"150\" y2=\"20\" />\n",
       "  <line x1=\"32\" y1=\"22\" x2=\"152\" y2=\"22\" />\n",
       "  <line x1=\"33\" y1=\"23\" x2=\"153\" y2=\"23\" />\n",
       "  <line x1=\"34\" y1=\"24\" x2=\"154\" y2=\"24\" />\n",
       "  <line x1=\"36\" y1=\"26\" x2=\"156\" y2=\"26\" />\n",
       "  <line x1=\"37\" y1=\"27\" x2=\"157\" y2=\"27\" />\n",
       "  <line x1=\"38\" y1=\"28\" x2=\"158\" y2=\"28\" />\n",
       "  <line x1=\"40\" y1=\"30\" x2=\"160\" y2=\"30\" />\n",
       "  <line x1=\"41\" y1=\"31\" x2=\"161\" y2=\"31\" />\n",
       "  <line x1=\"43\" y1=\"33\" x2=\"163\" y2=\"33\" />\n",
       "  <line x1=\"44\" y1=\"34\" x2=\"164\" y2=\"34\" />\n",
       "  <line x1=\"45\" y1=\"35\" x2=\"165\" y2=\"35\" />\n",
       "  <line x1=\"47\" y1=\"37\" x2=\"167\" y2=\"37\" />\n",
       "  <line x1=\"48\" y1=\"38\" x2=\"168\" y2=\"38\" />\n",
       "  <line x1=\"49\" y1=\"39\" x2=\"169\" y2=\"39\" />\n",
       "  <line x1=\"51\" y1=\"41\" x2=\"171\" y2=\"41\" />\n",
       "  <line x1=\"52\" y1=\"42\" x2=\"172\" y2=\"42\" />\n",
       "  <line x1=\"54\" y1=\"44\" x2=\"174\" y2=\"44\" />\n",
       "  <line x1=\"55\" y1=\"45\" x2=\"175\" y2=\"45\" />\n",
       "  <line x1=\"56\" y1=\"46\" x2=\"176\" y2=\"46\" />\n",
       "  <line x1=\"58\" y1=\"48\" x2=\"178\" y2=\"48\" />\n",
       "  <line x1=\"59\" y1=\"49\" x2=\"179\" y2=\"49\" />\n",
       "  <line x1=\"61\" y1=\"51\" x2=\"181\" y2=\"51\" />\n",
       "  <line x1=\"62\" y1=\"52\" x2=\"182\" y2=\"52\" />\n",
       "  <line x1=\"63\" y1=\"53\" x2=\"183\" y2=\"53\" />\n",
       "  <line x1=\"65\" y1=\"55\" x2=\"185\" y2=\"55\" />\n",
       "  <line x1=\"66\" y1=\"56\" x2=\"186\" y2=\"56\" />\n",
       "  <line x1=\"66\" y1=\"56\" x2=\"186\" y2=\"56\" style=\"stroke-width:2\" />\n",
       "\n",
       "  <!-- Vertical lines -->\n",
       "  <line x1=\"10\" y1=\"0\" x2=\"66\" y2=\"56\" style=\"stroke-width:2\" />\n",
       "  <line x1=\"130\" y1=\"0\" x2=\"186\" y2=\"56\" style=\"stroke-width:2\" />\n",
       "\n",
       "  <!-- Colored Rectangle -->\n",
       "  <polygon points=\"10.000000,0.000000 130.000000,0.000000 186.663603,56.663603 66.663603,56.663603\" style=\"fill:#ECB172A0;stroke-width:0\"/>\n",
       "\n",
       "  <!-- Horizontal lines -->\n",
       "  <line x1=\"66\" y1=\"56\" x2=\"186\" y2=\"56\" style=\"stroke-width:2\" />\n",
       "  <line x1=\"66\" y1=\"176\" x2=\"186\" y2=\"176\" style=\"stroke-width:2\" />\n",
       "\n",
       "  <!-- Vertical lines -->\n",
       "  <line x1=\"66\" y1=\"56\" x2=\"66\" y2=\"176\" style=\"stroke-width:2\" />\n",
       "  <line x1=\"186\" y1=\"56\" x2=\"186\" y2=\"176\" style=\"stroke-width:2\" />\n",
       "\n",
       "  <!-- Colored Rectangle -->\n",
       "  <polygon points=\"66.663603,56.663603 186.663603,56.663603 186.663603,176.663603 66.663603,176.663603\" style=\"fill:#ECB172A0;stroke-width:0\"/>\n",
       "\n",
       "  <!-- Text -->\n",
       "  <text x=\"126.663603\" y=\"196.663603\" font-size=\"1.0rem\" font-weight=\"100\" text-anchor=\"middle\" >512</text>\n",
       "  <text x=\"206.663603\" y=\"116.663603\" font-size=\"1.0rem\" font-weight=\"100\" text-anchor=\"middle\" transform=\"rotate(-90,206.663603,116.663603)\">512</text>\n",
       "  <text x=\"28.331801\" y=\"168.331801\" font-size=\"1.0rem\" font-weight=\"100\" text-anchor=\"middle\" transform=\"rotate(45,28.331801,168.331801)\">411</text>\n",
       "</svg>\n",
       "</td>\n",
       "</tr>\n",
       "</table>"
      ],
      "text/plain": [
       "dask.array<sub, shape=(411, 512, 512), dtype=float64, chunksize=(10, 512, 512), chunktype=numpy.ndarray>"
      ]
     },
     "execution_count": 10,
     "metadata": {},
     "output_type": "execute_result"
    }
   ],
   "source": [
    "# Step 1 to 3 of the algorithm as described in paper.\n",
    "sobel = crop_and_filter(original[Eslice,...].rechunk({0:dE}), sigma=3, finalsize=2*fftsize)\n",
    "sobel = (sobel - sobel.mean(axis=(1,2), keepdims=True)) #.persist()  \n",
    "sobel"
   ]
  },
  {
   "cell_type": "code",
   "execution_count": 11,
   "metadata": {
    "lines_to_next_cell": 1
   },
   "outputs": [
    {
     "name": "stderr",
     "output_type": "stream",
     "text": [
      "C:\\ProgramData\\Anaconda3\\lib\\site-packages\\dask\\array\\core.py:3855: PerformanceWarning: Increasing number of chunks by factor of 42\n",
      "  **blockwise_kwargs\n"
     ]
    },
    {
     "data": {
      "text/html": [
       "<table>\n",
       "<tr>\n",
       "<td>\n",
       "<table>\n",
       "  <thead>\n",
       "    <tr><td> </td><th> Array </th><th> Chunk </th></tr>\n",
       "  </thead>\n",
       "  <tbody>\n",
       "    <tr><th> Bytes </th><td> 354.25 GB </td> <td> 209.72 MB </td></tr>\n",
       "    <tr><th> Shape </th><td> (411, 411, 512, 512) </td> <td> (10, 10, 512, 512) </td></tr>\n",
       "    <tr><th> Count </th><td> 23437 Tasks </td><td> 1764 Chunks </td></tr>\n",
       "    <tr><th> Type </th><td> float64 </td><td> numpy.ndarray </td></tr>\n",
       "  </tbody>\n",
       "</table>\n",
       "</td>\n",
       "<td>\n",
       "<svg width=\"558\" height=\"226\" style=\"stroke:rgb(0,0,0);stroke-width:1\" >\n",
       "\n",
       "  <!-- Horizontal lines -->\n",
       "  <line x1=\"0\" y1=\"0\" x2=\"96\" y2=\"0\" style=\"stroke-width:2\" />\n",
       "  <line x1=\"0\" y1=\"25\" x2=\"96\" y2=\"25\" style=\"stroke-width:2\" />\n",
       "\n",
       "  <!-- Vertical lines -->\n",
       "  <line x1=\"0\" y1=\"0\" x2=\"0\" y2=\"25\" style=\"stroke-width:2\" />\n",
       "  <line x1=\"2\" y1=\"0\" x2=\"2\" y2=\"25\" />\n",
       "  <line x1=\"4\" y1=\"0\" x2=\"4\" y2=\"25\" />\n",
       "  <line x1=\"7\" y1=\"0\" x2=\"7\" y2=\"25\" />\n",
       "  <line x1=\"9\" y1=\"0\" x2=\"9\" y2=\"25\" />\n",
       "  <line x1=\"11\" y1=\"0\" x2=\"11\" y2=\"25\" />\n",
       "  <line x1=\"14\" y1=\"0\" x2=\"14\" y2=\"25\" />\n",
       "  <line x1=\"16\" y1=\"0\" x2=\"16\" y2=\"25\" />\n",
       "  <line x1=\"18\" y1=\"0\" x2=\"18\" y2=\"25\" />\n",
       "  <line x1=\"21\" y1=\"0\" x2=\"21\" y2=\"25\" />\n",
       "  <line x1=\"23\" y1=\"0\" x2=\"23\" y2=\"25\" />\n",
       "  <line x1=\"25\" y1=\"0\" x2=\"25\" y2=\"25\" />\n",
       "  <line x1=\"28\" y1=\"0\" x2=\"28\" y2=\"25\" />\n",
       "  <line x1=\"30\" y1=\"0\" x2=\"30\" y2=\"25\" />\n",
       "  <line x1=\"32\" y1=\"0\" x2=\"32\" y2=\"25\" />\n",
       "  <line x1=\"35\" y1=\"0\" x2=\"35\" y2=\"25\" />\n",
       "  <line x1=\"37\" y1=\"0\" x2=\"37\" y2=\"25\" />\n",
       "  <line x1=\"39\" y1=\"0\" x2=\"39\" y2=\"25\" />\n",
       "  <line x1=\"42\" y1=\"0\" x2=\"42\" y2=\"25\" />\n",
       "  <line x1=\"44\" y1=\"0\" x2=\"44\" y2=\"25\" />\n",
       "  <line x1=\"46\" y1=\"0\" x2=\"46\" y2=\"25\" />\n",
       "  <line x1=\"49\" y1=\"0\" x2=\"49\" y2=\"25\" />\n",
       "  <line x1=\"51\" y1=\"0\" x2=\"51\" y2=\"25\" />\n",
       "  <line x1=\"53\" y1=\"0\" x2=\"53\" y2=\"25\" />\n",
       "  <line x1=\"56\" y1=\"0\" x2=\"56\" y2=\"25\" />\n",
       "  <line x1=\"58\" y1=\"0\" x2=\"58\" y2=\"25\" />\n",
       "  <line x1=\"60\" y1=\"0\" x2=\"60\" y2=\"25\" />\n",
       "  <line x1=\"63\" y1=\"0\" x2=\"63\" y2=\"25\" />\n",
       "  <line x1=\"65\" y1=\"0\" x2=\"65\" y2=\"25\" />\n",
       "  <line x1=\"67\" y1=\"0\" x2=\"67\" y2=\"25\" />\n",
       "  <line x1=\"70\" y1=\"0\" x2=\"70\" y2=\"25\" />\n",
       "  <line x1=\"72\" y1=\"0\" x2=\"72\" y2=\"25\" />\n",
       "  <line x1=\"75\" y1=\"0\" x2=\"75\" y2=\"25\" />\n",
       "  <line x1=\"77\" y1=\"0\" x2=\"77\" y2=\"25\" />\n",
       "  <line x1=\"79\" y1=\"0\" x2=\"79\" y2=\"25\" />\n",
       "  <line x1=\"82\" y1=\"0\" x2=\"82\" y2=\"25\" />\n",
       "  <line x1=\"84\" y1=\"0\" x2=\"84\" y2=\"25\" />\n",
       "  <line x1=\"86\" y1=\"0\" x2=\"86\" y2=\"25\" />\n",
       "  <line x1=\"89\" y1=\"0\" x2=\"89\" y2=\"25\" />\n",
       "  <line x1=\"91\" y1=\"0\" x2=\"91\" y2=\"25\" />\n",
       "  <line x1=\"93\" y1=\"0\" x2=\"93\" y2=\"25\" />\n",
       "  <line x1=\"96\" y1=\"0\" x2=\"96\" y2=\"25\" />\n",
       "  <line x1=\"96\" y1=\"0\" x2=\"96\" y2=\"25\" style=\"stroke-width:2\" />\n",
       "\n",
       "  <!-- Colored Rectangle -->\n",
       "  <polygon points=\"0.000000,0.000000 96.328125,0.000000 96.328125,25.412617 0.000000,25.412617\" style=\"fill:#ECB172A0;stroke-width:0\"/>\n",
       "\n",
       "  <!-- Text -->\n",
       "  <text x=\"48.164062\" y=\"45.412617\" font-size=\"1.0rem\" font-weight=\"100\" text-anchor=\"middle\" >411</text>\n",
       "  <text x=\"116.328125\" y=\"12.706308\" font-size=\"1.0rem\" font-weight=\"100\" text-anchor=\"middle\" transform=\"rotate(0,116.328125,12.706308)\">1</text>\n",
       "\n",
       "\n",
       "  <!-- Horizontal lines -->\n",
       "  <line x1=\"166\" y1=\"0\" x2=\"222\" y2=\"56\" style=\"stroke-width:2\" />\n",
       "  <line x1=\"166\" y1=\"120\" x2=\"222\" y2=\"176\" style=\"stroke-width:2\" />\n",
       "\n",
       "  <!-- Vertical lines -->\n",
       "  <line x1=\"166\" y1=\"0\" x2=\"166\" y2=\"120\" style=\"stroke-width:2\" />\n",
       "  <line x1=\"167\" y1=\"1\" x2=\"167\" y2=\"121\" />\n",
       "  <line x1=\"168\" y1=\"2\" x2=\"168\" y2=\"122\" />\n",
       "  <line x1=\"170\" y1=\"4\" x2=\"170\" y2=\"124\" />\n",
       "  <line x1=\"171\" y1=\"5\" x2=\"171\" y2=\"125\" />\n",
       "  <line x1=\"172\" y1=\"6\" x2=\"172\" y2=\"126\" />\n",
       "  <line x1=\"174\" y1=\"8\" x2=\"174\" y2=\"128\" />\n",
       "  <line x1=\"175\" y1=\"9\" x2=\"175\" y2=\"129\" />\n",
       "  <line x1=\"177\" y1=\"11\" x2=\"177\" y2=\"131\" />\n",
       "  <line x1=\"178\" y1=\"12\" x2=\"178\" y2=\"132\" />\n",
       "  <line x1=\"179\" y1=\"13\" x2=\"179\" y2=\"133\" />\n",
       "  <line x1=\"181\" y1=\"15\" x2=\"181\" y2=\"135\" />\n",
       "  <line x1=\"182\" y1=\"16\" x2=\"182\" y2=\"136\" />\n",
       "  <line x1=\"183\" y1=\"17\" x2=\"183\" y2=\"137\" />\n",
       "  <line x1=\"185\" y1=\"19\" x2=\"185\" y2=\"139\" />\n",
       "  <line x1=\"186\" y1=\"20\" x2=\"186\" y2=\"140\" />\n",
       "  <line x1=\"188\" y1=\"22\" x2=\"188\" y2=\"142\" />\n",
       "  <line x1=\"189\" y1=\"23\" x2=\"189\" y2=\"143\" />\n",
       "  <line x1=\"190\" y1=\"24\" x2=\"190\" y2=\"144\" />\n",
       "  <line x1=\"192\" y1=\"26\" x2=\"192\" y2=\"146\" />\n",
       "  <line x1=\"193\" y1=\"27\" x2=\"193\" y2=\"147\" />\n",
       "  <line x1=\"194\" y1=\"28\" x2=\"194\" y2=\"148\" />\n",
       "  <line x1=\"196\" y1=\"30\" x2=\"196\" y2=\"150\" />\n",
       "  <line x1=\"197\" y1=\"31\" x2=\"197\" y2=\"151\" />\n",
       "  <line x1=\"199\" y1=\"33\" x2=\"199\" y2=\"153\" />\n",
       "  <line x1=\"200\" y1=\"34\" x2=\"200\" y2=\"154\" />\n",
       "  <line x1=\"201\" y1=\"35\" x2=\"201\" y2=\"155\" />\n",
       "  <line x1=\"203\" y1=\"37\" x2=\"203\" y2=\"157\" />\n",
       "  <line x1=\"204\" y1=\"38\" x2=\"204\" y2=\"158\" />\n",
       "  <line x1=\"205\" y1=\"39\" x2=\"205\" y2=\"159\" />\n",
       "  <line x1=\"207\" y1=\"41\" x2=\"207\" y2=\"161\" />\n",
       "  <line x1=\"208\" y1=\"42\" x2=\"208\" y2=\"162\" />\n",
       "  <line x1=\"210\" y1=\"44\" x2=\"210\" y2=\"164\" />\n",
       "  <line x1=\"211\" y1=\"45\" x2=\"211\" y2=\"165\" />\n",
       "  <line x1=\"212\" y1=\"46\" x2=\"212\" y2=\"166\" />\n",
       "  <line x1=\"214\" y1=\"48\" x2=\"214\" y2=\"168\" />\n",
       "  <line x1=\"215\" y1=\"49\" x2=\"215\" y2=\"169\" />\n",
       "  <line x1=\"217\" y1=\"51\" x2=\"217\" y2=\"171\" />\n",
       "  <line x1=\"218\" y1=\"52\" x2=\"218\" y2=\"172\" />\n",
       "  <line x1=\"219\" y1=\"53\" x2=\"219\" y2=\"173\" />\n",
       "  <line x1=\"221\" y1=\"55\" x2=\"221\" y2=\"175\" />\n",
       "  <line x1=\"222\" y1=\"56\" x2=\"222\" y2=\"176\" />\n",
       "  <line x1=\"222\" y1=\"56\" x2=\"222\" y2=\"176\" style=\"stroke-width:2\" />\n",
       "\n",
       "  <!-- Colored Rectangle -->\n",
       "  <polygon points=\"166.000000,0.000000 222.663603,56.663603 222.663603,176.663603 166.000000,120.000000\" style=\"fill:#ECB172A0;stroke-width:0\"/>\n",
       "\n",
       "  <!-- Horizontal lines -->\n",
       "  <line x1=\"166\" y1=\"0\" x2=\"286\" y2=\"0\" style=\"stroke-width:2\" />\n",
       "  <line x1=\"167\" y1=\"1\" x2=\"287\" y2=\"1\" />\n",
       "  <line x1=\"168\" y1=\"2\" x2=\"288\" y2=\"2\" />\n",
       "  <line x1=\"170\" y1=\"4\" x2=\"290\" y2=\"4\" />\n",
       "  <line x1=\"171\" y1=\"5\" x2=\"291\" y2=\"5\" />\n",
       "  <line x1=\"172\" y1=\"6\" x2=\"292\" y2=\"6\" />\n",
       "  <line x1=\"174\" y1=\"8\" x2=\"294\" y2=\"8\" />\n",
       "  <line x1=\"175\" y1=\"9\" x2=\"295\" y2=\"9\" />\n",
       "  <line x1=\"177\" y1=\"11\" x2=\"297\" y2=\"11\" />\n",
       "  <line x1=\"178\" y1=\"12\" x2=\"298\" y2=\"12\" />\n",
       "  <line x1=\"179\" y1=\"13\" x2=\"299\" y2=\"13\" />\n",
       "  <line x1=\"181\" y1=\"15\" x2=\"301\" y2=\"15\" />\n",
       "  <line x1=\"182\" y1=\"16\" x2=\"302\" y2=\"16\" />\n",
       "  <line x1=\"183\" y1=\"17\" x2=\"303\" y2=\"17\" />\n",
       "  <line x1=\"185\" y1=\"19\" x2=\"305\" y2=\"19\" />\n",
       "  <line x1=\"186\" y1=\"20\" x2=\"306\" y2=\"20\" />\n",
       "  <line x1=\"188\" y1=\"22\" x2=\"308\" y2=\"22\" />\n",
       "  <line x1=\"189\" y1=\"23\" x2=\"309\" y2=\"23\" />\n",
       "  <line x1=\"190\" y1=\"24\" x2=\"310\" y2=\"24\" />\n",
       "  <line x1=\"192\" y1=\"26\" x2=\"312\" y2=\"26\" />\n",
       "  <line x1=\"193\" y1=\"27\" x2=\"313\" y2=\"27\" />\n",
       "  <line x1=\"194\" y1=\"28\" x2=\"314\" y2=\"28\" />\n",
       "  <line x1=\"196\" y1=\"30\" x2=\"316\" y2=\"30\" />\n",
       "  <line x1=\"197\" y1=\"31\" x2=\"317\" y2=\"31\" />\n",
       "  <line x1=\"199\" y1=\"33\" x2=\"319\" y2=\"33\" />\n",
       "  <line x1=\"200\" y1=\"34\" x2=\"320\" y2=\"34\" />\n",
       "  <line x1=\"201\" y1=\"35\" x2=\"321\" y2=\"35\" />\n",
       "  <line x1=\"203\" y1=\"37\" x2=\"323\" y2=\"37\" />\n",
       "  <line x1=\"204\" y1=\"38\" x2=\"324\" y2=\"38\" />\n",
       "  <line x1=\"205\" y1=\"39\" x2=\"325\" y2=\"39\" />\n",
       "  <line x1=\"207\" y1=\"41\" x2=\"327\" y2=\"41\" />\n",
       "  <line x1=\"208\" y1=\"42\" x2=\"328\" y2=\"42\" />\n",
       "  <line x1=\"210\" y1=\"44\" x2=\"330\" y2=\"44\" />\n",
       "  <line x1=\"211\" y1=\"45\" x2=\"331\" y2=\"45\" />\n",
       "  <line x1=\"212\" y1=\"46\" x2=\"332\" y2=\"46\" />\n",
       "  <line x1=\"214\" y1=\"48\" x2=\"334\" y2=\"48\" />\n",
       "  <line x1=\"215\" y1=\"49\" x2=\"335\" y2=\"49\" />\n",
       "  <line x1=\"217\" y1=\"51\" x2=\"337\" y2=\"51\" />\n",
       "  <line x1=\"218\" y1=\"52\" x2=\"338\" y2=\"52\" />\n",
       "  <line x1=\"219\" y1=\"53\" x2=\"339\" y2=\"53\" />\n",
       "  <line x1=\"221\" y1=\"55\" x2=\"341\" y2=\"55\" />\n",
       "  <line x1=\"222\" y1=\"56\" x2=\"342\" y2=\"56\" />\n",
       "  <line x1=\"222\" y1=\"56\" x2=\"342\" y2=\"56\" style=\"stroke-width:2\" />\n",
       "\n",
       "  <!-- Vertical lines -->\n",
       "  <line x1=\"166\" y1=\"0\" x2=\"222\" y2=\"56\" style=\"stroke-width:2\" />\n",
       "  <line x1=\"286\" y1=\"0\" x2=\"342\" y2=\"56\" style=\"stroke-width:2\" />\n",
       "\n",
       "  <!-- Colored Rectangle -->\n",
       "  <polygon points=\"166.000000,0.000000 286.000000,0.000000 342.663603,56.663603 222.663603,56.663603\" style=\"fill:#ECB172A0;stroke-width:0\"/>\n",
       "\n",
       "  <!-- Horizontal lines -->\n",
       "  <line x1=\"222\" y1=\"56\" x2=\"342\" y2=\"56\" style=\"stroke-width:2\" />\n",
       "  <line x1=\"222\" y1=\"176\" x2=\"342\" y2=\"176\" style=\"stroke-width:2\" />\n",
       "\n",
       "  <!-- Vertical lines -->\n",
       "  <line x1=\"222\" y1=\"56\" x2=\"222\" y2=\"176\" style=\"stroke-width:2\" />\n",
       "  <line x1=\"342\" y1=\"56\" x2=\"342\" y2=\"176\" style=\"stroke-width:2\" />\n",
       "\n",
       "  <!-- Colored Rectangle -->\n",
       "  <polygon points=\"222.663603,56.663603 342.663603,56.663603 342.663603,176.663603 222.663603,176.663603\" style=\"fill:#ECB172A0;stroke-width:0\"/>\n",
       "\n",
       "  <!-- Text -->\n",
       "  <text x=\"282.663603\" y=\"196.663603\" font-size=\"1.0rem\" font-weight=\"100\" text-anchor=\"middle\" >512</text>\n",
       "  <text x=\"362.663603\" y=\"116.663603\" font-size=\"1.0rem\" font-weight=\"100\" text-anchor=\"middle\" transform=\"rotate(-90,362.663603,116.663603)\">512</text>\n",
       "  <text x=\"184.331801\" y=\"168.331801\" font-size=\"1.0rem\" font-weight=\"100\" text-anchor=\"middle\" transform=\"rotate(45,184.331801,168.331801)\">411</text>\n",
       "</svg>\n",
       "</td>\n",
       "</tr>\n",
       "</table>"
      ],
      "text/plain": [
       "dask.array<rechunk-merge, shape=(411, 411, 512, 512), dtype=float64, chunksize=(10, 10, 512, 512), chunktype=numpy.ndarray>"
      ]
     },
     "execution_count": 11,
     "metadata": {},
     "output_type": "execute_result"
    }
   ],
   "source": [
    "# Step 4 of the algorithm as described in paper.\n",
    "Corr = dask_cross_corr(sobel)\n",
    "Corr"
   ]
  },
  {
   "cell_type": "code",
   "execution_count": 12,
   "metadata": {},
   "outputs": [
    {
     "data": {
      "application/vnd.jupyter.widget-view+json": {
       "model_id": "e87e079f36594858a19b774eba980d8c",
       "version_major": 2,
       "version_minor": 0
      },
      "text/plain": [
       "interactive(children=(IntSlider(value=58, continuous_update=False, description='i', max=410), IntSlider(value=…"
      ]
     },
     "metadata": {},
     "output_type": "display_data"
    }
   ],
   "source": [
    "# Plot combination of original images, filtered images, crosscorrelation \n",
    "# for illustration purposes\n",
    "def plot_corr(i,j, save=False):\n",
    "    #fig = plt.figure(figsize=(8.2, 3.5), constrained_layout=True)\n",
    "    fig = plt.figure(figsize=(4, 7), constrained_layout=True)\n",
    "    fig.set_constrained_layout_pads(hspace=0.0, wspace=0.06)\n",
    "    #gs = mpl.gridspec.GridSpec(2, 3,\n",
    "    #                   width_ratios=[1, 1, 2.9],\n",
    "    #                   #height_ratios=[4, 1]\n",
    "    #                   )\n",
    "    \n",
    "    gs = mpl.gridspec.GridSpec(3, 2,\n",
    "                       height_ratios=[1, 1, 1.8],\n",
    "                               figure=fig,\n",
    "                       )\n",
    "    \n",
    "    ax0 = plt.subplot(gs[0, 0])\n",
    "    ax1 = plt.subplot(gs[1, 0])\n",
    "    ax2 = plt.subplot(gs[0, 1])\n",
    "    ax3 = plt.subplot(gs[1, 1])\n",
    "    ax4 = plt.subplot(gs[2, :]) #2grid((2, 4), (0, 2), rowspan=2, colspan=2)\n",
    "    ax0.imshow(original[i*stride + start,(640-fftsize):(640+fftsize),(512-fftsize):(512+fftsize)].T, \n",
    "               cmap='gray', interpolation='none')\n",
    "    ax0.set_title(f'i={i*stride + start}')\n",
    "    ax1.imshow(sobel[i,...].T, cmap='gray')\n",
    "    ax2.imshow(original[j*stride + start,(640-fftsize):(640+fftsize),(512-fftsize):(512+fftsize)].T,\n",
    "               cmap='gray', interpolation='none')\n",
    "    ax2.set_title(f'j={j*stride + start}')\n",
    "    ax3.imshow(sobel[j,...].T,\n",
    "               cmap='gray', interpolation='none')\n",
    "    im = ax4.imshow(Corr[i,j,...].compute().T, extent=[-fftsize, fftsize, -fftsize, fftsize], interpolation='none')\n",
    "    ax4.axhline(0, color='white', alpha=0.5)\n",
    "    ax4.axvline(0, color='white', alpha=0.5)\n",
    "    for ax in [ax2, ax3]:\n",
    "        ax.yaxis.set_label_position(\"right\")\n",
    "        ax.tick_params(axis='y', labelright=True, labelleft=False)\n",
    "    plt.colorbar(im, ax=ax4)\n",
    "    if save:\n",
    "        #Saving Figure for paper.\n",
    "        plt.savefig('autocorrelation.pdf', dpi=300)\n",
    "    plt.show()\n",
    "    return fig\n",
    "\n",
    "widget = interactive(plot_corr, \n",
    "            i=widgets.IntSlider(58-start,0,sobel.shape[0]-1,1, continuous_update=False), \n",
    "            j=widgets.IntSlider(100-start,0,sobel.shape[0]-1,1, continuous_update=False),\n",
    "            save=False\n",
    "           )\n",
    "display(widget)"
   ]
  },
  {
   "cell_type": "code",
   "execution_count": 13,
   "metadata": {},
   "outputs": [],
   "source": [
    "# Step 5 of the algorithm\n",
    "weights, argmax = max_and_argmax(Corr)"
   ]
  },
  {
   "cell_type": "code",
   "execution_count": 14,
   "metadata": {},
   "outputs": [
    {
     "name": "stdout",
     "output_type": "stream",
     "text": [
      "804.4822609424591\n"
     ]
    }
   ],
   "source": [
    "# Do actual computations; get a cup of coffee\n",
    "t = time.time()\n",
    "Wc, Mc = calculate_halfmatrices(weights, argmax, fftsize=fftsize)\n",
    "print(time.time()-t)"
   ]
  },
  {
   "cell_type": "code",
   "execution_count": 15,
   "metadata": {
    "lines_to_next_cell": 1
   },
   "outputs": [],
   "source": [
    "### Step 6 of the algorithm\n",
    "wc_diag = np.atleast_2d(np.diag(Wc))\n",
    "W_n = Wc / np.sqrt(wc_diag.T*wc_diag)"
   ]
  },
  {
   "cell_type": "code",
   "execution_count": 16,
   "metadata": {
    "scrolled": true
   },
   "outputs": [
    {
     "data": {
      "application/vnd.jupyter.widget-view+json": {
       "model_id": "38f5ede3566848899c195d7275a22bc4",
       "version_major": 2,
       "version_minor": 0
      },
      "text/plain": [
       "interactive(children=(FloatSlider(value=0.15, continuous_update=False, description='min_normed_weight', max=1.…"
      ]
     },
     "metadata": {},
     "output_type": "display_data"
    }
   ],
   "source": [
    "# Plot W, DX and DY to pick a value for W_{min} (Step 7 of algorithm)\n",
    "def plot_masking(min_normed_weight, save=False):\n",
    "    extent = [start, stop, stop, start]\n",
    "    fig, axs = plt.subplots(1, 3, figsize=(8, 2.5), constrained_layout=True)\n",
    "    im = {}\n",
    "    im[0] = axs[0].imshow(Mc[0], cmap='seismic', extent=extent, interpolation='none')\n",
    "    im[1] = axs[1].imshow(Mc[1], cmap='seismic', extent=extent, interpolation='none')\n",
    "    im[2] = axs[2].imshow(W_n - np.diag(np.diag(W_n)), cmap='inferno', \n",
    "                          extent=extent, clim=(0.0, None), interpolation='none')\n",
    "    axs[0].set_ylabel('$j$')\n",
    "    fig.colorbar(im[0], ax=axs[:2], shrink=0.82, fraction=0.1)\n",
    "    axs[0].contourf(W_n, [0, min_normed_weight], \n",
    "                    colors='black', alpha=0.6, \n",
    "                    extent=extent, origin='upper')\n",
    "    axs[1].contourf(W_n, [0, min_normed_weight], \n",
    "                    colors='black', alpha=0.6, \n",
    "                    extent=extent, origin='upper')\n",
    "    CF = axs[2].contourf(W_n, [0, min_normed_weight], \n",
    "                         colors='white', alpha=0.2, \n",
    "                         extent=extent, origin='upper')\n",
    "    cbar = fig.colorbar(im[2], ax=axs[2], shrink=0.82, fraction=0.1)\n",
    "    cbar.ax.fill_between([0,1], 0, min_normed_weight, color='white', alpha=0.2)\n",
    "    for i in range(3):            \n",
    "        axs[i].set_xlabel('$i$')\n",
    "        axs[i].tick_params(labelbottom=False, labelleft=False)  \n",
    "    axs[0].set_title('$DX_{ij}$')\n",
    "    axs[1].set_title('$DY_{ij}$')\n",
    "    axs[2].set_title('$W_{ij}$')\n",
    "    if save:\n",
    "        plt.savefig('shiftsandweights.pdf', dpi=300)\n",
    "    plt.show()\n",
    "    return min_normed_weight\n",
    "\n",
    "widget = interactive(plot_masking, \n",
    "                     min_normed_weight=widgets.FloatSlider(value=0.15, min=0., max=1, \n",
    "                                                      step=0.01, continuous_update=False),\n",
    "                     save=False\n",
    "               )\n",
    "display(widget)"
   ]
  },
  {
   "cell_type": "code",
   "execution_count": 17,
   "metadata": {},
   "outputs": [
    {
     "data": {
      "text/plain": [
       "<matplotlib.legend.Legend at 0x1609b717d68>"
      ]
     },
     "execution_count": 17,
     "metadata": {},
     "output_type": "execute_result"
    },
    {
     "data": {
      "image/png": "[encoded data removed]",
      "text/plain": [
       "<Figure size 864x576 with 1 Axes>"
      ]
     },
     "metadata": {
      "needs_background": "light"
     },
     "output_type": "display_data"
    }
   ],
   "source": [
    "# Part two of step 7 of the algorithm\n",
    "min_norm = widget.result\n",
    "nr = np.arange(Wc.shape[0])*stride + start\n",
    "coords, weightmatrix, DX, DY, row_mask = threshold_and_mask(min_norm, Wc, Mc, nr)\n",
    "#Step 8 of the algorithm: reduce the shift matrix to two vectors of absolute shifts\n",
    "dx, dy = calc_shift_vectors(DX, DY, weightmatrix)\n",
    "plt.plot(coords, dx, '.', label='dx')\n",
    "plt.plot(coords, dy, '.', label='dy')\n",
    "plt.xlabel('n')\n",
    "plt.ylabel('shift (pixels)')\n",
    "plt.legend()"
   ]
  },
  {
   "cell_type": "code",
   "execution_count": 18,
   "metadata": {},
   "outputs": [
    {
     "data": {
      "text/html": [
       "<table>\n",
       "<tr>\n",
       "<td>\n",
       "<table>\n",
       "  <thead>\n",
       "    <tr><td> </td><th> Array </th><th> Chunk </th></tr>\n",
       "  </thead>\n",
       "  <tbody>\n",
       "    <tr><th> Bytes </th><td> 6.59 kB </td> <td> 160 B </td></tr>\n",
       "    <tr><th> Shape </th><td> (412, 2) </td> <td> (10, 2) </td></tr>\n",
       "    <tr><th> Count </th><td> 43 Tasks </td><td> 42 Chunks </td></tr>\n",
       "    <tr><th> Type </th><td> float64 </td><td> numpy.ndarray </td></tr>\n",
       "  </tbody>\n",
       "</table>\n",
       "</td>\n",
       "<td>\n",
       "<svg width=\"75\" height=\"170\" style=\"stroke:rgb(0,0,0);stroke-width:1\" >\n",
       "\n",
       "  <!-- Horizontal lines -->\n",
       "  <line x1=\"0\" y1=\"0\" x2=\"25\" y2=\"0\" style=\"stroke-width:2\" />\n",
       "  <line x1=\"0\" y1=\"2\" x2=\"25\" y2=\"2\" />\n",
       "  <line x1=\"0\" y1=\"5\" x2=\"25\" y2=\"5\" />\n",
       "  <line x1=\"0\" y1=\"8\" x2=\"25\" y2=\"8\" />\n",
       "  <line x1=\"0\" y1=\"11\" x2=\"25\" y2=\"11\" />\n",
       "  <line x1=\"0\" y1=\"14\" x2=\"25\" y2=\"14\" />\n",
       "  <line x1=\"0\" y1=\"17\" x2=\"25\" y2=\"17\" />\n",
       "  <line x1=\"0\" y1=\"20\" x2=\"25\" y2=\"20\" />\n",
       "  <line x1=\"0\" y1=\"23\" x2=\"25\" y2=\"23\" />\n",
       "  <line x1=\"0\" y1=\"26\" x2=\"25\" y2=\"26\" />\n",
       "  <line x1=\"0\" y1=\"29\" x2=\"25\" y2=\"29\" />\n",
       "  <line x1=\"0\" y1=\"32\" x2=\"25\" y2=\"32\" />\n",
       "  <line x1=\"0\" y1=\"34\" x2=\"25\" y2=\"34\" />\n",
       "  <line x1=\"0\" y1=\"37\" x2=\"25\" y2=\"37\" />\n",
       "  <line x1=\"0\" y1=\"40\" x2=\"25\" y2=\"40\" />\n",
       "  <line x1=\"0\" y1=\"43\" x2=\"25\" y2=\"43\" />\n",
       "  <line x1=\"0\" y1=\"46\" x2=\"25\" y2=\"46\" />\n",
       "  <line x1=\"0\" y1=\"49\" x2=\"25\" y2=\"49\" />\n",
       "  <line x1=\"0\" y1=\"52\" x2=\"25\" y2=\"52\" />\n",
       "  <line x1=\"0\" y1=\"55\" x2=\"25\" y2=\"55\" />\n",
       "  <line x1=\"0\" y1=\"58\" x2=\"25\" y2=\"58\" />\n",
       "  <line x1=\"0\" y1=\"61\" x2=\"25\" y2=\"61\" />\n",
       "  <line x1=\"0\" y1=\"64\" x2=\"25\" y2=\"64\" />\n",
       "  <line x1=\"0\" y1=\"66\" x2=\"25\" y2=\"66\" />\n",
       "  <line x1=\"0\" y1=\"69\" x2=\"25\" y2=\"69\" />\n",
       "  <line x1=\"0\" y1=\"72\" x2=\"25\" y2=\"72\" />\n",
       "  <line x1=\"0\" y1=\"75\" x2=\"25\" y2=\"75\" />\n",
       "  <line x1=\"0\" y1=\"78\" x2=\"25\" y2=\"78\" />\n",
       "  <line x1=\"0\" y1=\"81\" x2=\"25\" y2=\"81\" />\n",
       "  <line x1=\"0\" y1=\"84\" x2=\"25\" y2=\"84\" />\n",
       "  <line x1=\"0\" y1=\"87\" x2=\"25\" y2=\"87\" />\n",
       "  <line x1=\"0\" y1=\"90\" x2=\"25\" y2=\"90\" />\n",
       "  <line x1=\"0\" y1=\"93\" x2=\"25\" y2=\"93\" />\n",
       "  <line x1=\"0\" y1=\"96\" x2=\"25\" y2=\"96\" />\n",
       "  <line x1=\"0\" y1=\"99\" x2=\"25\" y2=\"99\" />\n",
       "  <line x1=\"0\" y1=\"101\" x2=\"25\" y2=\"101\" />\n",
       "  <line x1=\"0\" y1=\"104\" x2=\"25\" y2=\"104\" />\n",
       "  <line x1=\"0\" y1=\"107\" x2=\"25\" y2=\"107\" />\n",
       "  <line x1=\"0\" y1=\"110\" x2=\"25\" y2=\"110\" />\n",
       "  <line x1=\"0\" y1=\"113\" x2=\"25\" y2=\"113\" />\n",
       "  <line x1=\"0\" y1=\"116\" x2=\"25\" y2=\"116\" />\n",
       "  <line x1=\"0\" y1=\"119\" x2=\"25\" y2=\"119\" />\n",
       "  <line x1=\"0\" y1=\"120\" x2=\"25\" y2=\"120\" style=\"stroke-width:2\" />\n",
       "\n",
       "  <!-- Vertical lines -->\n",
       "  <line x1=\"0\" y1=\"0\" x2=\"0\" y2=\"120\" style=\"stroke-width:2\" />\n",
       "  <line x1=\"25\" y1=\"0\" x2=\"25\" y2=\"120\" style=\"stroke-width:2\" />\n",
       "\n",
       "  <!-- Colored Rectangle -->\n",
       "  <polygon points=\"0.000000,0.000000 25.412617,0.000000 25.412617,120.000000 0.000000,120.000000\" style=\"fill:#ECB172A0;stroke-width:0\"/>\n",
       "\n",
       "  <!-- Text -->\n",
       "  <text x=\"12.706308\" y=\"140.000000\" font-size=\"1.0rem\" font-weight=\"100\" text-anchor=\"middle\" >2</text>\n",
       "  <text x=\"45.412617\" y=\"60.000000\" font-size=\"1.0rem\" font-weight=\"100\" text-anchor=\"middle\" transform=\"rotate(-90,45.412617,60.000000)\">412</text>\n",
       "</svg>\n",
       "</td>\n",
       "</tr>\n",
       "</table>"
      ],
      "text/plain": [
       "dask.array<array, shape=(412, 2), dtype=float64, chunksize=(10, 2), chunktype=numpy.ndarray>"
      ]
     },
     "execution_count": 18,
     "metadata": {},
     "output_type": "execute_result"
    }
   ],
   "source": [
    "# Interpolate the shifts for all values not in coords\n",
    "shifts = np.stack(interp_shifts(coords, [dx, dy], n=original.shape[0]), axis=1)\n",
    "neededMargins = np.ceil(shifts.max(axis=0)).astype(int)\n",
    "shifts = da.from_array(shifts, chunks=(dE,-1))\n",
    "shifts"
   ]
  },
  {
   "cell_type": "code",
   "execution_count": 19,
   "metadata": {},
   "outputs": [],
   "source": [
    "#Step 9, the actual shifting of the original images\n",
    "\n",
    "#Inferring output dtype is not supported in dask yet, so we need original.dtype here.\n",
    "@da.as_gufunc(signature=\"(i,j),(2)->(i,j)\", output_dtypes=original.dtype, vectorize=True)\n",
    "def shift_images(image, shift):\n",
    "    \"\"\"Shift image over shift.\"\"\"\n",
    "    return ndi.shift(image, shift=shift, order=1)\n",
    "\n",
    "padded = da.pad(original.rechunk({0:dE}), \n",
    "                ((0, 0), \n",
    "                 (0, neededMargins[0]), \n",
    "                 (0, neededMargins[1])\n",
    "                ),\n",
    "                mode='constant'\n",
    "               )\n",
    "corrected = shift_images(padded.rechunk({1:-1, 2:-1}), shifts)"
   ]
  },
  {
   "cell_type": "code",
   "execution_count": 20,
   "metadata": {},
   "outputs": [
    {
     "data": {
      "application/vnd.jupyter.widget-view+json": {
       "model_id": "aa42c5450fe84a268af9b6fa0dbec1a3",
       "version_major": 2,
       "version_minor": 0
      },
      "text/plain": [
       "interactive(children=(IntSlider(value=103, continuous_update=False, description='n', max=411), Output()), _dom…"
      ]
     },
     "metadata": {},
     "output_type": "display_data"
    }
   ],
   "source": [
    "# Do an interactive viewer to inspect the results\n",
    "interactive(lambda n: plot_stack(corrected, n, grid=True), \n",
    "            n=widgets.IntSlider(corrected.shape[0]//4,0,corrected.shape[0]-1,1, continuous_update=False)\n",
    "           ) "
   ]
  },
  {
   "cell_type": "code",
   "execution_count": 21,
   "metadata": {},
   "outputs": [],
   "source": [
    "# Save the results to zarr\n",
    "import zarr\n",
    "from numcodecs import Blosc\n",
    "compressor = Blosc(cname='zstd', clevel=1, shuffle=Blosc.SHUFFLE)\n",
    "corrected.to_zarr(os.path.join(folder, name + '_driftcorrected.zarr'), \n",
    "                  overwrite=True, compressor=compressor)"
   ]
  },
  {
   "cell_type": "code",
   "execution_count": null,
   "metadata": {},
   "outputs": [],
   "source": [
    "#Or, although parallel access to HDF5 is hard, so go single process, save to hdf5\n",
    "with dask.config.set(scheduler='threads'):  \n",
    "    corrected.to_hdf5(folder + name + r'\\driftCorrected.h5', '/stack')"
   ]
  }
 ],
 "metadata": {
  "jupytext": {
   "formats": "ipynb,py:light"
  },
  "kernelspec": {
   "display_name": "Python 3",
   "language": "python",
   "name": "python3"
  },
  "language_info": {
   "codemirror_mode": {
    "name": "ipython",
    "version": 3
   },
   "file_extension": ".py",
   "mimetype": "text/x-python",
   "name": "python",
   "nbconvert_exporter": "python",
   "pygments_lexer": "ipython3",
   "version": "3.6.9"
  }
 },
 "nbformat": 4,
 "nbformat_minor": 4
}
